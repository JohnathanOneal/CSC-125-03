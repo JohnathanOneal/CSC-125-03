{
  "metadata": {
    "kernelspec": {
      "language": "python",
      "display_name": "Python 3",
      "name": "python3"
    },
    "language_info": {
      "name": "python",
      "version": "3.11.13",
      "mimetype": "text/x-python",
      "codemirror_mode": {
        "name": "ipython",
        "version": 3
      },
      "pygments_lexer": "ipython3",
      "nbconvert_exporter": "python",
      "file_extension": ".py"
    }
  },
  "nbformat_minor": 4,
  "nbformat": 4,
  "cells": [
    {
      "cell_type": "markdown",
      "source": "# Homework 2: Variables and Data Types\n\n**Due: Friday by 11:59 PM**\n\n**Instructions:** Complete each section below. Run your code to test it. If you get stuck, refer to the asynchronous materials or ask questions via email",
      "metadata": {}
    },
    {
      "cell_type": "markdown",
      "source": "## Part 1: Creating Superhero Variables\n\nCreate variables to store information about a superhero character. Run the code and observe the output.",
      "metadata": {}
    },
    {
      "cell_type": "code",
      "source": "# Create a variable called 'hero_name' and store a superhero name as a string\n# Create a variable called 'years_active' and store how many years they've been a hero as an integer\n# Create a variable called 'power_level' and store their power level as a float (example: 8.5)\n# Create a variable called 'from_outer_space' and store True or False\n# Create a variable called 'superpower' and store their main superpower as a string\n\n# Your code here:\n\n# Print all your variables (code provided):\nprint(\"Hero Name:\", hero_name)\nprint(\"Years Active:\", years_active)\nprint(\"Power Level:\", power_level)\nprint(\"From Outer Space:\", from_outer_space)\nprint(\"Superpower:\", superpower)",
      "metadata": {"trusted": true},
      "outputs": [],
      "execution_count": null
    },
    {
      "cell_type": "markdown",
      "source": "## Part 2: Variable Naming Rules\n\nTry creating these variables. Some will work, others will cause errors. Run each cell and observe what happens.",
      "metadata": {}
    },
    {
      "cell_type": "code",
      "source": "# This should work:\nmy_favorite_color = \"blue\"\nprint(my_favorite_color)",
      "metadata": {"trusted": true},
      "outputs": [],
      "execution_count": null
    },
    {
      "cell_type": "code",
      "source": "# Try this one - will it work?\n2nd_favorite_color = \"green\"\nprint(2nd_favorite_color)",
      "metadata": {"trusted": true},
      "outputs": [],
      "execution_count": null
    },
    {
      "cell_type": "code",
      "source": "# Try this one - will it work?\nfavorite-food = \"pizza\"\nprint(favorite-food)",
      "metadata": {"trusted": true},
      "outputs": [],
      "execution_count": null
    },
    {
      "cell_type": "markdown",
      "source": "**Question:** In the markdown cell below, explain what you learned about variable naming rules from the exercises above.\n\n**Your answer:**\n*(Double-click this cell to edit it)*",
      "metadata": {}
    },
    {
      "cell_type": "markdown",
      "source": "## Part 3: Data Types Exploration\n\nPython has a built-in function called `type()` that tells you what data type a variable is. Let's explore!",
      "metadata": {}
    },
    {
      "cell_type": "code",
      "source": "# Run this code to see the data types\nstudent_name = \"Alex\"\nstudent_age = 20\nstudent_gpa = 3.75\nis_graduating = True\n\nprint(\"student_name type:\", type(student_name))\nprint(\"student_age type:\", type(student_age))\nprint(\"student_gpa type:\", type(student_gpa))\nprint(\"is_graduating type:\", type(is_graduating))",
      "metadata": {"trusted": true},
      "outputs": [],
      "execution_count": null
    },
    {
      "cell_type": "code",
      "source": "# Now create your own variables of each type:\n# Create a string variable called 'favorite_movie'\n# Create an integer variable called 'release_year'\n# Create a float variable called 'movie_rating' (out of 10.0)\n# Create a boolean variable called 'is_superhero_movie'\n\n# Your code here:\n\n\n# Test your variables (code provided):\nprint(\"favorite_movie:\", favorite_movie, \"- Type:\", type(favorite_movie))\nprint(\"release_year:\", release_year, \"- Type:\", type(release_year))\nprint(\"movie_rating:\", movie_rating, \"- Type:\", type(movie_rating))\nprint(\"is_superhero_movie:\", is_superhero_movie, \"- Type:\", type(is_superhero_movie))",
      "metadata": {"trusted": true},
      "outputs": [],
      "execution_count": null
    },
    {
      "cell_type": "markdown",
      "source": "## Part 4: Type Conversion\n\nSometimes we need to convert between data types. Let's practice!",
      "metadata": {}
    },
    {
      "cell_type": "code",
      "source": "# Run this code to see type conversion in action\nnumber_as_string = \"42\"\nprint(\"Original:\", number_as_string, \"- Type:\", type(number_as_string))\n\n# Convert string to integer\nnumber_as_int = int(number_as_string)\nprint(\"As integer:\", number_as_int, \"- Type:\", type(number_as_int))\n\n# Convert integer to float\nnumber_as_float = float(number_as_int)\nprint(\"As float:\", number_as_float, \"- Type:\", type(number_as_float))",
      "metadata": {"trusted": true},
      "outputs": [],
      "execution_count": null
    },
    {
      "cell_type": "code",
      "source": "# Your turn! Convert these variables:\nstring_number = \"3.14\"\nwhole_number = 100\n\n# Convert string_number to a float and store in 'pi_value'\n# Convert whole_number to a string and store in 'hundred_text'\n\n# Your code here:\n\n\n# Test your conversions (code provided):\nprint(\"pi_value:\", pi_value, \"- Type:\", type(pi_value))\nprint(\"hundred_text:\", hundred_text, \"- Type:\", type(hundred_text))",
      "metadata": {"trusted": true},
      "outputs": [],
      "execution_count": null
    },
    {
      "cell_type": "markdown",
      "source": "## Part 5: User Input Practice\n\nThe `input()` function lets users type information into your program. Note: `input()` always returns a string!",
      "metadata": {}
    },
    {
      "cell_type": "code",
      "source": "# Run this code and type your response when prompted\nuser_name = input(\"What's your name? \")\nprint(\"Hello,\", user_name, \"!\")\nprint(\"Type of user_name:\", type(user_name))",
      "metadata": {"trusted": true},
      "outputs": [],
      "execution_count": null
    },
    {
      "cell_type": "code",
      "source": "# Your turn! Create a program that:\n# 1. Asks the user for their favorite number\n# 2. Converts it to an integer\n# 3. Adds 10 to it\n# 4. Prints the result\n\n# Your code here:\n",
      "metadata": {"trusted": true},
      "outputs": [],
      "execution_count": null
    },
    {
      "cell_type": "markdown",
      "source": "## Part 6: Basic Arithmetic\n\nLet's practice math operations with variables.",
      "metadata": {}
    },
    {
      "cell_type": "code",
      "source": "# Create variables for a simple calculator\nfirst_number = 15\nsecond_number = 4\n\n# Perform calculations and store results\naddition_result = first_number + second_number\nsubtraction_result = first_number - second_number\nmultiplication_result = first_number * second_number\ndivision_result = first_number / second_number\n\n# Print results\nprint(f\"{first_number} + {second_number} = {addition_result}\")\nprint(f\"{first_number} - {second_number} = {subtraction_result}\")\nprint(f\"{first_number} * {second_number} = {multiplication_result}\")\nprint(f\"{first_number} / {second_number} = {division_result}\")",
      "metadata": {"trusted": true},
      "outputs": [],
      "execution_count": null
    },
    {
      "cell_type": "code",
      "source": "# Your turn! Create a program that calculates the area of a rectangle\n# Ask the user for length and width\n# Convert the inputs to floats\n# Calculate area (length * width)\n# Print a nice message with the result\n\n# Your code here:\n",
      "metadata": {"trusted": true},
      "outputs": [],
      "execution_count": null
    },
    {
      "cell_type": "markdown",
      "source": "## Part 7: Debugging Practice\n\nThese code cells have errors. Your job is to fix them! Read the error messages carefully - they give you clues about what's wrong.",
      "metadata": {}
    },
    {
      "cell_type": "code",
      "source": "# Fix this code - there's a type conversion error\nuser_age = \"25\"\nage_next_year = user_age + 1\nprint(\"Next year you'll be:\", age_next_year)",
      "metadata": {"trusted": true},
      "outputs": [],
      "execution_count": null
    },
    {
      "cell_type": "code",
      "source": "# Fix this code - there's a variable name error\nhero_strength = 9.5\nhero_speed = 8.2\ntotal_power = hero_strenght + hero_speed  # Oops! Typo in variable name\nprint(\"Total power:\", total_power)",
      "metadata": {"trusted": true},
      "outputs": [],
      "execution_count": null
    },
    {
      "cell_type": "code",
      "source": "# Fix this code - there's a string quotation error\nvillain_name = \"Dr. Doom\nprint(\"The villain is:\", villain_name)",
      "metadata": {"trusted": true},
      "outputs": [],
      "execution_count": null
    },
    {
      "cell_type": "markdown",
      "source": "**Debugging Reflection:** In the markdown cell below, explain what you learned from fixing these errors.\n\n**Your answer:**\n*(Double-click this cell to edit it)*",
      "metadata": {}
    },
    {
      "cell_type": "markdown",
      "source": "## Reflection Questions\n\nAnswer these questions in the markdown cells below:",
      "metadata": {}
    },
    {
      "cell_type": "markdown",
      "source": "**1. What's the difference between '5' and 5 in Python?**\n\n*(Double-click to edit)*\n\nYour answer:",
      "metadata": {}
    },
    {
      "cell_type": "markdown",
      "source": "**2. When might you need to convert a string to an integer in a real program?**\n\n*(Double-click to edit)*\n\nYour answer:",
      "metadata": {}
    },
    {
      "cell_type": "markdown",
      "source": "**3. What was the most challenging part of this assignment?**\n\n*(Double-click to edit)*\n\nYour answer:",
      "metadata": {}
    },
    {
      "cell_type": "markdown",
      "source": "## Submission Instructions\n\n1. Make sure all your code runs and the output is displayed\n2. Complete all the reflection questions\n3. Save your notebook\n4. Submit via Moodle before Friday 11:59 PM\n\n**Great job completing Week 2! You now understand the building blocks of Python programming: variables and data types**\n## 🐍🐍🐍🐍🐍🐍🐍🐍🐍 (Challenge Problems below)",
      "metadata": {}
    },
    {
      "cell_type": "markdown",
      "source": "## Part 8: Challenge Problems (Optional)\n\nThese are extra challenges if you want more practice!",
      "metadata": {}
    },
    {
      "cell_type": "code",
      "source": "# Challenge 1: Grade point average calculator\n# Ask the user for 3 test scores (as floats)\n# Calculate the average score\n# Determine if the grade is \"A\" (average >= 90) or \"B or below\" (average < 90)\n# Print a summary with all scores, the average, and the letter grade\n\n# Your code here:\n",
      "metadata": {"trusted": true},
      "outputs": [],
      "execution_count": null
    },
    {
      "cell_type": "code",
      "source": "# Challenge 2: Personal budget calculator\n# Ask the user for: monthly income, rent cost, and food budget (all as floats)\n# Calculate remaining money after expenses\n# Calculate what percentage of income goes to rent\n# Create a summary sentence with all the financial information\n# Print everything with clear labels and dollar signs\n\n# Your code here:\n",
      "metadata": {"trusted": true},
      "outputs": [],
      "execution_count": null
    },
    {
      "cell_type": "code",
      "source": "# Challenge 3: Data type converter and analyzer\n# Ask the user to enter ANY value\n# Show the original input and its type\n# Try to convert their input to int, float, and keep it as string\n# For each version, print the value and its type\n# Calculate the length of the string version\n# Hint: Think about what inputs work for int() vs float()\n\n# Your code here:\n",
      "metadata": {"trusted": true},
      "outputs": [],
      "execution_count": null
    }
  ]
}
