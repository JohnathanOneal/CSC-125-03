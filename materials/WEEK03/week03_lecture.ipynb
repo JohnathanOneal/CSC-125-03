{
  "metadata": {
    "kernelspec": {
      "display_name": "Python 3",
      "language": "python",
      "name": "python3"
    },
    "language_info": {
      "name": "python",
      "version": "3.11.13",
      "mimetype": "text/x-python",
      "codemirror_mode": {
        "name": "ipython",
        "version": 3
      },
      "pygments_lexer": "ipython3",
      "nbconvert_exporter": "python",
      "file_extension": ".py"
    },
    "kaggle": {
      "accelerator": "none",
      "dataSources": [],
      "dockerImageVersionId": 31089,
      "isInternetEnabled": true,
      "language": "python",
      "sourceType": "notebook",
      "isGpuEnabled": false
    }
  },
  "nbformat_minor": 4,
  "nbformat": 4,
  "cells": [
    {
      "cell_type": "markdown",
      "source": "# String Operations and Debugging\n## Lecture Material for Introduction to Programming\n\n### Topics Covered:\n- Working with text data using string methods\n- Accessing parts of strings with indexing and slicing\n- Creating formatted output with f-strings\n- Reading and understanding error messages\n- Debugging common string errors\n\n---",
      "metadata": {}
    },
    {
      "cell_type": "markdown",
      "source": "## 1. Working with Strings\n\nStrings are everywhere in programming. User names, messages, file names, web addresses – most data you work with involves text. Today we'll learn how to manipulate and work with strings effectively.\n\n### String Methods - Your Text Processing Tools\n\nString methods are built-in functions that let you modify and analyze text. Think of them as tools for cleaning up messy text data.",
      "metadata": {}
    },
    {
      "cell_type": "code",
      "source": "# Let's start with some messy user input\nuser_input = \"  HELLO world  \"\nprint(f\"Original input: '{user_input}'\")\nprint(f\"Length: {len(user_input)}\")",
      "metadata": {
        "trusted": true
      },
      "outputs": [],
      "execution_count": null
    },
    {
      "cell_type": "markdown",
      "source": "### The Most Important String Methods\n\nThese four methods will handle most text processing tasks:",
      "metadata": {}
    },
    {
      "cell_type": "code",
      "source": "# .strip() removes extra spaces from the beginning and end\nclean_input = user_input.strip()\nprint(f\"After strip(): '{clean_input}'\")\n\n# .upper() converts everything to uppercase\nuppercase = user_input.upper()\nprint(f\"After upper(): '{uppercase}'\")\n\n# .lower() converts everything to lowercase\nlowercase = user_input.lower()\nprint(f\"After lower(): '{lowercase}'\")\n\n# .title() capitalizes the first letter of each word\ntitle_case = user_input.title()\nprint(f\"After title(): '{title_case}'\")",
      "metadata": {
        "trusted": true
      },
      "outputs": [],
      "execution_count": null
    },
    {
      "cell_type": "markdown",
      "source": "### Method Chaining\n\nYou can combine multiple string methods together:",
      "metadata": {}
    },
    {
      "cell_type": "code",
      "source": "# Method chaining: apply multiple methods in sequence\nmessy_name = \"  alice JOHNSON  \"\n\n# Clean it up in one line\nclean_name = messy_name.strip().title()\nprint(f\"Original: '{messy_name}'\")\nprint(f\"Cleaned: '{clean_name}'\")\n\n# This is the same as doing it step by step:\nstep1 = messy_name.strip()  # Remove spaces\nstep2 = step1.title()       # Capitalize properly\nprint(f\"Step by step result: '{step2}'\")",
      "metadata": {
        "trusted": true
      },
      "outputs": [],
      "execution_count": null
    },
    {
      "cell_type": "markdown",
      "source": "### The .replace() Method\n\nReplace parts of text with something else:",
      "metadata": {}
    },
    {
      "cell_type": "code",
      "source": "# Replace text within a string\norder = \"I want a large pizza with EXTRA cheese\"\nprint(f\"Original order: {order}\")\n\n# Fix the shouting\nfixed_order = order.replace(\"EXTRA\", \"extra\")\nprint(f\"Fixed order: {fixed_order}\")\n\n# Replace multiple words\nformal_order = order.replace(\"I want\", \"I would like\")\nprint(f\"More formal: {formal_order}\")",
      "metadata": {
        "trusted": true
      },
      "outputs": [],
      "execution_count": null
    },
    {
      "cell_type": "markdown",
      "source": "---\n\n## 2. String Indexing - Accessing Individual Characters\n\nStrings in Python work like a sequence of characters. Each character has a position number called an index.\n\n### Understanding String Positions",
      "metadata": {}
    },
    {
      "cell_type": "code",
      "source": "# Let's explore string indexing\nword = \"Python\"\nprint(f\"The word: {word}\")\nprint(f\"Length: {len(word)}\")\nprint()\n\n# Positive indexing (counting from the left, starting at 0)\nprint(\"Positive indexing:\")\nprint(f\"word[0] = '{word[0]}'  # First character\")\nprint(f\"word[1] = '{word[1]}'  # Second character\")\nprint(f\"word[2] = '{word[2]}'  # Third character\")\nprint(f\"word[5] = '{word[5]}'  # Last character\")",
      "metadata": {
        "trusted": true
      },
      "outputs": [],
      "execution_count": null
    },
    {
      "cell_type": "code",
      "source": "# Negative indexing (counting from the right)\nprint(\"Negative indexing:\")\nprint(f\"word[-1] = '{word[-1]}'  # Last character\")\nprint(f\"word[-2] = '{word[-2]}'  # Second to last\")\nprint(f\"word[-6] = '{word[-6]}'  # First character\")",
      "metadata": {
        "trusted": true
      },
      "outputs": [],
      "execution_count": null
    },
    {
      "cell_type": "markdown",
      "source": "### Practical Indexing Example",
      "metadata": {}
    },
    {
      "cell_type": "code",
      "source": "# Get initials from a name\nfull_name = \"Alice Johnson\"\nprint(f\"Full name: {full_name}\")\n\n# Find the space to locate where last name starts\nspace_position = full_name.index(\" \")\nprint(f\"Space is at position: {space_position}\")\n\n# Get initials\nfirst_initial = full_name[0]  # First character\nlast_initial = full_name[space_position + 1]  # Character after space\n\nprint(f\"Initials: {first_initial}.{last_initial}.\")",
      "metadata": {
        "trusted": true
      },
      "outputs": [],
      "execution_count": null
    },
    {
      "cell_type": "markdown",
      "source": "---\n\n## 3. String Slicing - Extracting Substrings\n\nSlicing lets you extract multiple characters at once using the `[start:end]` notation.\n\n### Basic Slicing Syntax",
      "metadata": {}
    },
    {
      "cell_type": "code",
      "source": "# Understanding slicing\nsentence = \"Hello World\"\nprint(f\"Sentence: {sentence}\")\nprint(f\"Length: {len(sentence)}\")\nprint()\n\n# Basic slicing: [start:end] - end is NOT included\nprint(\"Basic slicing:\")\nprint(f\"sentence[0:5] = '{sentence[0:5]}'  # Characters 0,1,2,3,4\")\nprint(f\"sentence[6:11] = '{sentence[6:11]}'  # Characters 6,7,8,9,10\")",
      "metadata": {
        "trusted": true
      },
      "outputs": [],
      "execution_count": null
    },
    {
      "cell_type": "code",
      "source": "# Shorthand slicing\nprint(\"Shorthand slicing:\")\nprint(f\"sentence[:5] = '{sentence[:5]}'   # From start to position 5\")\nprint(f\"sentence[6:] = '{sentence[6:]}'   # From position 6 to end\")\nprint(f\"sentence[:] = '{sentence[:]}'     # The entire string\")",
      "metadata": {
        "trusted": true
      },
      "outputs": [],
      "execution_count": null
    },
    {
      "cell_type": "markdown",
      "source": "### Practical Slicing Example",
      "metadata": {}
    },
    {
      "cell_type": "code",
      "source": "# Extract username and domain from an email\nemail = \"student@college.edu\"\nprint(f\"Email: {email}\")\n\n# Find where the @ symbol is\nat_position = email.index(\"@\")\nprint(f\"@ symbol is at position: {at_position}\")\n\n# Extract parts\nusername = email[:at_position]  # Everything before @\ndomain = email[at_position + 1:]  # Everything after @\n\nprint(f\"Username: {username}\")\nprint(f\"Domain: {domain}\")",
      "metadata": {
        "trusted": true
      },
      "outputs": [],
      "execution_count": null
    },
    {
      "cell_type": "markdown",
      "source": "---\n\n## 4. F-String Formatting - Creating Dynamic Output\n\nF-strings (formatted string literals) let you insert variables directly into strings. They're the modern, preferred way to format text in Python.\n\n### Basic F-String Syntax",
      "metadata": {}
    },
    {
      "cell_type": "code",
      "source": "# Traditional string concatenation (the old way)\nname = \"Alice\"\nage = 22\nold_way = \"Hello, my name is \" + name + \" and I am \" + str(age) + \" years old.\"\nprint(\"Old way:\", old_way)\n\n# F-string formatting (the modern way)\nf_string_way = f\"Hello, my name is {name} and I am {age} years old.\"\nprint(\"F-string way:\", f_string_way)",
      "metadata": {
        "trusted": true
      },
      "outputs": [],
      "execution_count": null
    },
    {
      "cell_type": "markdown",
      "source": "### F-Strings with Expressions",
      "metadata": {}
    },
    {
      "cell_type": "code",
      "source": "# You can put expressions inside f-strings\nname = \"Bob\"\nage = 25\ncity = \"Boston\"\n\n# Simple variable insertion\ngreeting = f\"Hi {name}!\"\nprint(greeting)\n\n# Expressions and calculations\nnext_year = f\"Next year {name} will be {age + 1} years old\"\nprint(next_year)\n\n# Method calls inside f-strings\nloud_greeting = f\"HELLO {name.upper()} FROM {city.upper()}!\"\nprint(loud_greeting)",
      "metadata": {
        "trusted": true
      },
      "outputs": [],
      "execution_count": null
    },
    {
      "cell_type": "markdown",
      "source": "### Practical F-String Example",
      "metadata": {}
    },
    {
      "cell_type": "code",
      "source": "# Create a customer receipt\nitem = \"laptop\"\nprice = 899.99\nquantity = 2\ntax_rate = 0.08\n\n# Calculate totals\nsubtotal = price * quantity\ntax = subtotal * tax_rate\ntotal = subtotal + tax\n\n# Format the receipt\nreceipt = f\"\"\"\n--- RECEIPT ---\nItem: {item.title()}\nPrice: ${price}\nQuantity: {quantity}\nSubtotal: ${subtotal}\nTax: ${tax:.2f}\nTotal: ${total:.2f}\n\"\"\"\n\nprint(receipt)",
      "metadata": {
        "trusted": true
      },
      "outputs": [],
      "execution_count": null
    },
    {
      "cell_type": "markdown",
      "source": "---\n\n## 5. Understanding Error Messages\n\nErrors are a normal part of programming. The key is learning to read error messages instead of panicking when you see them.\n\n### Common String-Related Errors\n\nLet's look at the most common errors you'll encounter when working with strings:",
      "metadata": {}
    },
    {
      "cell_type": "markdown",
      "source": "### Error Type 1: IndexError",
      "metadata": {}
    },
    {
      "cell_type": "code",
      "source": "# This will demonstrate an IndexError\ntext = \"Hello\"\nprint(f\"Text: {text}\")\nprint(f\"Length: {len(text)}\")\nprint(f\"Valid indexes: 0, 1, 2, 3, 4\")\n\n# This will work:\nprint(f\"text[4] = '{text[4]}'\")\n\n# Uncomment the next line to see an IndexError:\n# print(f\"text[10] = '{text[10]}'\")",
      "metadata": {
        "trusted": true
      },
      "outputs": [],
      "execution_count": null
    },
    {
      "cell_type": "markdown",
      "source": "**How to avoid IndexError:**\n- Always check the length of your string first\n- Remember: if length is 5, valid indexes are 0, 1, 2, 3, 4\n- Use `len(string) - 1` to get the last valid index",
      "metadata": {}
    },
    {
      "cell_type": "markdown",
      "source": "### Error Type 2: AttributeError",
      "metadata": {}
    },
    {
      "cell_type": "code",
      "source": "# This will demonstrate an AttributeError\nname = \"alice\"\nprint(f\"Original: {name}\")\n\n# This works:\nprint(f\"Correct: {name.upper()}\")\n\n# Uncomment the next line to see an AttributeError:\n# print(f\"Wrong: {name.Upper()}\")  # Capital U is wrong!",
      "metadata": {
        "trusted": true
      },
      "outputs": [],
      "execution_count": null
    },
    {
      "cell_type": "markdown",
      "source": "**How to avoid AttributeError:**\n- Remember that Python is case-sensitive\n- Common methods: `.upper()`, `.lower()`, `.strip()`, `.replace()`\n- All lowercase method names",
      "metadata": {}
    },
    {
      "cell_type": "markdown",
      "source": "### Error Type 3: NameError",
      "metadata": {}
    },
    {
      "cell_type": "code",
      "source": "# This will demonstrate a NameError\ncolor = \"blue\"\nprint(f\"My favorite color is {color}\")\n\n# Uncomment the next line to see a NameError:\n# print(f\"I also like {colour}\")  # Typo! Should be 'color'",
      "metadata": {
        "trusted": true
      },
      "outputs": [],
      "execution_count": null
    },
    {
      "cell_type": "markdown",
      "source": "**How to avoid NameError:**\n- Check your spelling carefully\n- Make sure you've defined the variable before using it\n- Python is case-sensitive: `Name` and `name` are different",
      "metadata": {}
    },
    {
      "cell_type": "markdown",
      "source": "---\n\n## 6. Debugging Strategies\n\nWhen your code doesn't work, follow these steps:\n\n### Step 1: Read the Error Message",
      "metadata": {}
    },
    {
      "cell_type": "code",
      "source": "# Use print() to check your variables\nuser_input = \"  John Doe  \"\nprint(f\"Original input: '{user_input}'\")\nprint(f\"Length: {len(user_input)}\")\nprint(f\"Type: {type(user_input)}\")\n\n# Process the input\nclean_name = user_input.strip()\nprint(f\"After cleaning: '{clean_name}'\")\nprint(f\"New length: {len(clean_name)}\")",
      "metadata": {
        "trusted": true
      },
      "outputs": [],
      "execution_count": null
    },
    {
      "cell_type": "markdown",
      "source": "### Step 2: Check Your Data Step by Step",
      "metadata": {}
    },
    {
      "cell_type": "code",
      "source": "# Debug slicing operations\nemail = \"student@college.edu\"\nprint(f\"Working with: {email}\")\n\n# Check each step\nprint(f\"Length: {len(email)}\")\nat_pos = email.index(\"@\")\nprint(f\"@ position: {at_pos}\")\n\n# Test the slicing\nusername_part = email[:at_pos]\ndomain_part = email[at_pos + 1:]\nprint(f\"Username part: '{username_part}'\")\nprint(f\"Domain part: '{domain_part}'\")",
      "metadata": {
        "trusted": true
      },
      "outputs": [],
      "execution_count": null
    },
    {
      "cell_type": "markdown",
      "source": "### Step 3: Test with Simple Examples",
      "metadata": {}
    },
    {
      "cell_type": "code",
      "source": "# When debugging, start with simple test cases\ntest_name = \"Alice\"\nprint(f\"Test name: {test_name}\")\nprint(f\"Length: {len(test_name)}\")\nprint(f\"First letter: {test_name[0]}\")\nprint(f\"Last letter: {test_name[-1]}\")\nprint(f\"First 3 letters: {test_name[:3]}\")",
      "metadata": {
        "trusted": true
      },
      "outputs": [],
      "execution_count": null
    },
    {
      "cell_type": "markdown",
      "source": "---\n\n## 7. Putting It All Together - Complete Example\n\nLet's create a program that demonstrates all the concepts we've learned:",
      "metadata": {}
    },
    {
      "cell_type": "code",
      "source": "# A complete string processing program\n\n# Get user input\nprint(\"=== User Registration System ===\")\nuser_name = input(\"Enter your full name: \")\nuser_email = input(\"Enter your email: \")\n\n# Clean up the name\nclean_name = user_name.strip().title()\nprint(f\"\\nProcessing name: '{user_name}' -> '{clean_name}'\")\n\n# Extract first and last name\nif \" \" in clean_name:\n    space_pos = clean_name.index(\" \")\n    first_name = clean_name[:space_pos]\n    last_name = clean_name[space_pos + 1:]\nelse:\n    first_name = clean_name\n    last_name = \"\"\n\nprint(f\"First name: {first_name}\")\nprint(f\"Last name: {last_name}\")\n\n# Process email\nclean_email = user_email.strip().lower()\nif \"@\" in clean_email:\n    at_pos = clean_email.index(\"@\")\n    username = clean_email[:at_pos]\n    domain = clean_email[at_pos + 1:]\n    print(f\"Email username: {username}\")\n    print(f\"Email domain: {domain}\")\nelse:\n    print(\"Invalid email format\")\n\n# Create a summary\nsummary = f\"\"\"\n=== Registration Summary ===\nName: {clean_name}\nFirst: {first_name}\nLast: {last_name}\nEmail: {clean_email}\nInitials: {first_name[0] if first_name else \"\"}.{last_name[0] if last_name else \".\"}\n\"\"\"\n\nprint(summary)",
      "metadata": {
        "trusted": true
      },
      "outputs": [],
      "execution_count": null
    },
    {
      "cell_type": "markdown",
      "source": "---\n\n## 8. Summary and Key Takeaways\n\nToday we covered essential string operations and debugging:\n\n### What We Covered:\n\n1. **String Methods**: Tools for cleaning and modifying text\n   - `.strip()`, `.upper()`, `.lower()`, `.title()`, `.replace()`\n   - Method chaining for multiple operations\n\n2. **String Indexing**: Accessing individual characters\n   - Positive indexing: `string[0]`, `string[1]`, etc.\n   - Negative indexing: `string[-1]`, `string[-2]`, etc.\n   - Always check length to avoid errors\n\n3. **String Slicing**: Extracting substrings\n   - Basic syntax: `string[start:end]`\n   - Shortcuts: `string[:5]`, `string[3:]`, `string[:]`\n   - End position is not included\n\n4. **F-String Formatting**: Modern string formatting\n   - Syntax: `f\"Text with {variable} here\"`\n   - Can include expressions and method calls\n   - Much cleaner than old concatenation methods\n\n5. **Error Messages and Debugging**:\n   - IndexError: accessing invalid positions\n   - AttributeError: wrong method names\n   - NameError: typos in variable names\n   - Use print() to check your data\n\n### Key Concepts to Remember:\n\n- Strings are sequences of characters with numbered positions\n- String methods return new strings (they don't modify the original)\n- Always validate your data before processing it\n- Error messages are helpful - read them carefully\n- When debugging, check your data step by step\n\n### For Homework and Practice:\n\n- Practice string methods with real text data\n- Experiment with slicing different strings\n- Create f-strings with variables and expressions\n- When you get errors, read the message and check your code\n\nRemember: Working with strings is fundamental to most programming tasks. These skills will be useful in every program you write!",
      "metadata": {}
    }
  ]
}