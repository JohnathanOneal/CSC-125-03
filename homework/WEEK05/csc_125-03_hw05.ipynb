{
  "metadata": {
    "kernelspec": {
      "language": "python",
      "display_name": "Python 3",
      "name": "python3"
    },
    "language_info": {
      "name": "python",
      "version": "3.11.13",
      "mimetype": "text/x-python",
      "codemirror_mode": {
        "name": "ipython",
        "version": 3
      },
      "pygments_lexer": "ipython3",
      "nbconvert_exporter": "python",
      "file_extension": ".py"
    }
  },
  "nbformat_minor": 4,
  "nbformat": 4,
  "cells": [
    {
      "cell_type": "markdown",
      "source": "# Homework 5: Conditional Logic\n\n**Due: Friday by 11:59 PM**\n\n**Instructions:** Complete each section below. Focus on using if, elif, and else statements to make decisions in your programs. Use the boolean expressions and operators you learned in previous weeks.",
      "metadata": {}
    },
    {
      "cell_type": "markdown",
      "source": "## Part 1: Basic If Statements\n\nLearn to use simple if statements to make decisions.",
      "metadata": {}
    },
    {
      "cell_type": "code",
      "source": "# Example: Simple age checker\nage = 20\n\nif age >= 18:\n    print(\"You can vote!\")\n\nif age < 18:\n    print(\"You cannot vote yet.\")\n\nprint(\"Age check complete.\")",
      "metadata": {"trusted": true},
      "outputs": [],
      "execution_count": null
    },
    {
      "cell_type": "code",
      "source": "# Your turn! Temperature checker\ntemperature = 75\n\n# Write if statements to check:\n# If temperature >= 80, print \"It's hot outside!\"\n# If temperature < 32, print \"It's freezing!\"\n# Always print the current temperature at the end\n\n# Your code here:\n\n",
      "metadata": {"trusted": true},
      "outputs": [],
      "execution_count": null
    },
    {
      "cell_type": "code",
      "source": "# Password strength checker\npassword = \"hello123\"\npassword_length = len(password)\n\n# Write if statements to check:\n# If password length >= 8, print \"Password is long enough\"\n# If password length < 8, print \"Password is too short\"\n# If password length >= 12, print \"Password is very secure\"\n\n# Your code here:\n\n",
      "metadata": {"trusted": true},
      "outputs": [],
      "execution_count": null
    },
    {
      "cell_type": "markdown",
      "source": "## Part 2: If-Else Statements\n\nUse if-else to handle two different conditions.",
      "metadata": {}
    },
    {
      "cell_type": "code",
      "source": "# Example: Even or odd checker\nnumber = 17\n\nif number % 2 == 0:\n    print(f\"{number} is even\")\nelse:\n    print(f\"{number} is odd\")\n\nprint(\"Number check complete.\")",
      "metadata": {"trusted": true},
      "outputs": [],
      "execution_count": null
    },
    {
      "cell_type": "code",
      "source": "# Your turn! Grade pass/fail checker\ngrade = 72\n\n# Use if-else to check:\n# If grade >= 60, print \"You passed!\"\n# Otherwise, print \"You failed.\"\n# Also print the actual grade\n\n# Your code here:\n\n",
      "metadata": {"trusted": true},
      "outputs": [],
      "execution_count": null
    },
    {
      "cell_type": "code",
      "source": "# Store hours checker\nstore_hour = 14  # 2 PM in 24-hour format\n\n# Use if-else to check store status:\n# If store_hour >= 9 and store_hour <= 21, print \"Store is open\"\n# Otherwise, print \"Store is closed\"\n\n# Your code here:\n\n",
      "metadata": {"trusted": true},
      "outputs": [],
      "execution_count": null
    },
    {
      "cell_type": "markdown",
      "source": "## Part 3: If-Elif-Else Statements\n\nHandle multiple conditions with elif.",
      "metadata": {}
    },
    {
      "cell_type": "code",
      "source": "# Example: Letter grade calculator\nscore = 87\n\nif score >= 90:\n    letter_grade = \"A\"\nelif score >= 80:\n    letter_grade = \"B\"\nelif score >= 70:\n    letter_grade = \"C\"\nelif score >= 60:\n    letter_grade = \"D\"\nelse:\n    letter_grade = \"F\"\n\nprint(f\"Score: {score}, Grade: {letter_grade}\")",
      "metadata": {"trusted": true},
      "outputs": [],
      "execution_count": null
    },
    {
      "cell_type": "code",
      "source": "# Your turn! Age category classifier\nage = int(input(\"Enter your age: \"))\n\n# Use if-elif-else to classify age:\n# 0-12: \"Child\"\n# 13-19: \"Teenager\"\n# 20-64: \"Adult\"\n# 65+: \"Senior\"\n# Print the age and category\n\n# Your code here:\n\n",
      "metadata": {"trusted": true},
      "outputs": [],
      "execution_count": null
    },
    {
      "cell_type": "code",
      "source": "# Weather clothing advisor\ntemperature = float(input(\"Enter temperature in Fahrenheit: \"))\n\n# Use if-elif-else to suggest clothing:\n# Temperature >= 80: \"Wear shorts and t-shirt\"\n# Temperature >= 60: \"Wear jeans and light jacket\"\n# Temperature >= 40: \"Wear warm coat\"\n# Temperature < 40: \"Wear heavy winter coat\"\n\n# Your code here:\n\n",
      "metadata": {"trusted": true},
      "outputs": [],
      "execution_count": null
    },
    {
      "cell_type": "markdown",
      "source": "## Part 4: Nested If Statements\n\nPut if statements inside other if statements for complex logic.",
      "metadata": {}
    },
    {
      "cell_type": "code",
      "source": "# Example: Discount calculator\nprice = 50\nis_member = True\n\nif price >= 25:\n    if is_member:\n        discount = 0.20  # 20% discount\n        print(\"Member discount applied: 20%\")\n    else:\n        discount = 0.10  # 10% discount\n        print(\"Regular discount applied: 10%\")\nelse:\n    discount = 0\n    print(\"No discount available\")\n\nfinal_price = price * (1 - discount)\nprint(f\"Final price: ${final_price:.2f}\")",
      "metadata": {"trusted": true},
      "outputs": [],
      "execution_count": null
    },
    {
      "cell_type": "code",
      "source": "# Your turn! Movie ticket pricing\nage = int(input(\"Enter your age: \"))\nis_student = input(\"Are you a student? (yes/no): \").lower() == \"yes\"\n\n# Nested if logic:\n# Base prices: Child (under 18) = $8, Senior (65+) = $10, Adult = $15\n# Student discount: If adult (18-64) AND student, price is $12 instead of $15\n\n# Your code here:\n\n",
      "metadata": {"trusted": true},
      "outputs": [],
      "execution_count": null
    },
    {
      "cell_type": "markdown",
      "source": "## Part 5: User Input with Conditionals\n\nCombine user input with conditional logic.",
      "metadata": {}
    },
    {
      "cell_type": "code",
      "source": "# Simple calculator\nnum1 = float(input(\"Enter first number: \"))\noperator = input(\"Enter operator (+, -, *, /): \")\nnum2 = float(input(\"Enter second number: \"))\n\n# Use if-elif statements to perform the calculation\n# Handle division by zero case\n\n# Your code here:\n\n",
      "metadata": {"trusted": true},
      "outputs": [],
      "execution_count": null
    },
    {
      "cell_type": "code",
      "source": "# Password length validator\npassword = input(\"Create a password: \")\npassword_length = len(password)\n\n# Check password requirements based on length:\n# Less than 8 characters: \"Password is too weak\"\n# 8-11 characters: \"Password is acceptable\"\n# 12-15 characters: \"Password is strong\"\n# 16+ characters: \"Password is very strong\"\n# Also display the actual password length\n\n# Your code here:\n\n",
      "metadata": {"trusted": true},
      "outputs": [],
      "execution_count": null
    },
    {
      "cell_type": "markdown",
      "source": "## Part 6: Logical Operators in Conditions\n\nUse and, or, not to create complex conditions.",
      "metadata": {}
    },
    {
      "cell_type": "code",
      "source": "# Example: Event eligibility checker\nage = 25\nhas_ticket = True\nis_vip = False\n\nif age >= 18 and has_ticket:\n    if is_vip or age >= 21:\n        print(\"Welcome to VIP section!\")\n    else:\n        print(\"Welcome to general admission!\")\nelse:\n    print(\"Sorry, you cannot enter.\")",
      "metadata": {"trusted": true},
      "outputs": [],
      "execution_count": null
    },
    {
      "cell_type": "code",
      "source": "# Your turn! Scholarship eligibility checker\ngpa = float(input(\"Enter your GPA (0.0-4.0): \"))\nvolunteer_hours = int(input(\"Enter volunteer hours this year: \"))\nhas_essay = input(\"Did you submit an essay? (yes/no): \").lower() == \"yes\"\n\n# Scholarship eligibility criteria:\n# Eligible if: (gpa >= 3.5 and volunteer_hours >= 50) or has_essay\n# If eligible and gpa >= 3.8, mention \"merit scholar\" status\n# Otherwise not eligible\n\n# Your code here:\n\n",
      "metadata": {"trusted": true},
      "outputs": [],
      "execution_count": null
    },
    {
      "cell_type": "markdown",
      "source": "## Part 7: Debugging Conditional Logic\n\nFind and fix the errors in these conditional statements.",
      "metadata": {}
    },
    {
      "cell_type": "code",
      "source": "# Fix this code - there's a logical error\ngrade = 85\n\nif grade >= 90:\n    print(\"A\")\nelif grade >= 90:  # This condition will never be reached!\n    print(\"B\")\nelif grade >= 70:\n    print(\"C\")\nelse:\n    print(\"F\")",
      "metadata": {"trusted": true},
      "outputs": [],
      "execution_count": null
    },
    {
      "cell_type": "code",
      "source": "# Fix this code - there's a syntax error\ntemperature = 75\n\nif temperature > 80\n    print(\"Hot\")\nelif temperature > 60:\n    print(\"Warm\")\nelse:\n    print(\"Cold\")",
      "metadata": {"trusted": true},
      "outputs": [],
      "execution_count": null
    },
    {
      "cell_type": "code",
      "source": "# Fix this code - there's an indentation error\nage = 20\n\nif age >= 18:\nprint(\"Adult\")  # Wrong indentation!\nelse:\n    print(\"Minor\")",
      "metadata": {"trusted": true},
      "outputs": [],
      "execution_count": null
    },
    {
      "cell_type": "markdown",
      "source": "**Debugging Reflection:** In the markdown cell below, explain what you learned from fixing these errors.\n\n**Your answer:**\n*(Double-click this cell to edit it)*",
      "metadata": {}
    },
    {
      "cell_type": "markdown",
      "source": "## Part 8: Real-World Application\n\nBuild a complete program using conditional logic.",
      "metadata": {}
    },
    {
      "cell_type": "code",
      "source": "# Build a simple grade calculator\n# Ask user for test score, homework score, and participation score\n# Calculate weighted average: test 50%, homework 30%, participation 20%\n# Assign letter grade and provide feedback\n# Handle edge cases (scores over 100 or under 0)\n\n# Your code here:\n\n",
      "metadata": {"trusted": true},
      "outputs": [],
      "execution_count": null
    },
    {
      "cell_type": "markdown",
      "source": "## Reflection Questions\n\nAnswer these questions in the markdown cells below:",
      "metadata": {}
    },
    {
      "cell_type": "markdown",
      "source": "**1. What's the difference between if-elif and multiple separate if statements?**\n\n*(Double-click to edit)*\n\nYour answer:",
      "metadata": {}
    },
    {
      "cell_type": "markdown",
      "source": "**2. When would you use nested if statements instead of logical operators (and/or)?**\n\n*(Double-click to edit)*\n\nYour answer:",
      "metadata": {}
    },
    {
      "cell_type": "markdown",
      "source": "**3. What happens if you forget the colon (:) at the end of an if statement?**\n\n*(Double-click to edit)*\n\nYour answer:",
      "metadata": {}
    },
    {
      "cell_type": "markdown",
      "source": "**4. What was the most challenging part of this assignment?**\n\n*(Double-click to edit)*\n\nYour answer:",
      "metadata": {}
    },
    {
      "cell_type": "markdown",
      "source": "## Submission Instructions\n\n1. Make sure all your code runs without errors\n2. Complete all the reflection questions\n3. Save your notebook\n4. Submit via Moodle before Friday 11:59 PM\n\n**Excellent work on Week 5! You can now make decisions in your programs using conditional logic.**\n## 🐍🐍🐍🐍🐍🐍🐍🐍🐍 (Challenge Problems below)",
      "metadata": {}
    },
    {
      "cell_type": "markdown",
      "source": "## Part 9: Challenge Problems (Optional)\n\nThese are extra challenges if you want more practice!",
      "metadata": {}
    },
    {
      "cell_type": "code",
      "source": "# Challenge 1: Investment return calculator\n# Ask user for initial investment amount and years invested\n# Calculate returns based on investment tiers:\n#   $0-$1,000: 3% annual return\n#   $1,001-$10,000: 5% annual return\n#   $10,001-$50,000: 7% annual return\n#   $50,001+: 9% annual return\n# Use formula: final_amount = initial * (1 + rate) ** years\n# Display initial investment, return rate, years, and final amount\n\n# Your code here:\n",
      "metadata": {"trusted": true},
      "outputs": [],
      "execution_count": null
    },
    {
      "cell_type": "code",
      "source": "# Challenge 2: Progressive tax calculator\n# Ask for annual income\n# Calculate tax based on brackets:\n#   $0-$10,000: 0% tax\n#   $10,001-$40,000: 12% tax\n#   $40,001-$85,000: 22% tax\n#   $85,001+: 24% tax\n# Show income, tax owed, tax rate, and after-tax income\n\n# Your code here:\n",
      "metadata": {"trusted": true},
      "outputs": [],
      "execution_count": null
    },
    {
      "cell_type": "code",
      "source": "# Challenge 3: Shipping cost calculator\n# Ask for package weight (in pounds) and destination (domestic/international)\n# Calculate shipping cost:\n#   Domestic: $5 base + $0.50 per pound\n#   International: $15 base + $1.50 per pound\n# Ask if package value is over $100 (yes/no)\n#   If yes, add $10 insurance fee\n# Display itemized breakdown: base cost, weight cost, insurance (if any), total\n\n# Your code here:\n",
      "metadata": {"trusted": true},
      "outputs": [],
      "execution_count": null
    }
  ]
}