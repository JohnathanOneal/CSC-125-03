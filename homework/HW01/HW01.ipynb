{
  "metadata": {
    "kernelspec": {
      "language": "python",
      "display_name": "Python 3",
      "name": "python3"
    },
    "language_info": {
      "name": "python",
      "version": "3.11.13",
      "mimetype": "text/x-python",
      "codemirror_mode": {
        "name": "ipython",
        "version": 3
      },
      "pygments_lexer": "ipython3",
      "nbconvert_exporter": "python",
      "file_extension": ".py"
    },
    "kaggle": {
      "accelerator": "none",
      "dataSources": [],
      "dockerImageVersionId": 31089,
      "isInternetEnabled": false,
      "language": "python",
      "sourceType": "notebook",
      "isGpuEnabled": false
    }
  },
  "nbformat_minor": 4,
  "nbformat": 4,
  "cells": [
    {
      "cell_type": "markdown",
      "source": "# Homework 1: Intro to Print Statements and Data Types\n\n**Name:** ________________  \n**Date:** ________________\n\n---\n\n## Instructions\nComplete each section by writing Python code in the provided cells. Some questions require typed responses in addition to code.",
      "metadata": {}
    },
    {
      "cell_type": "markdown",
      "source": "## Part 1: Basic Print Statements\n\n### Question 1\nWrite a print statement to display the message: `Hello, World!`",
      "metadata": {}
    },
    {
      "cell_type": "code",
      "source": "",
      "metadata": {
        "trusted": true
      },
      "outputs": [],
      "execution_count": null
    },
    {
      "cell_type": "markdown",
      "source": "### Question 2\nWrite a print statement to display your favorite color.",
      "metadata": {}
    },
    {
      "cell_type": "code",
      "source": "",
      "metadata": {
        "trusted": true
      },
      "outputs": [],
      "execution_count": null
    },
    {
      "cell_type": "markdown",
      "source": "### Question 3\nWrite a print statement to display a number (any number you choose).",
      "metadata": {}
    },
    {
      "cell_type": "code",
      "source": "",
      "metadata": {
        "trusted": true
      },
      "outputs": [],
      "execution_count": null
    },
    {
      "cell_type": "markdown",
      "source": "## Part 2: Understanding Strings vs Numbers\n\n### Question 4\nWrite a print statement to display the number `42` (as a number, not in quotes).",
      "metadata": {}
    },
    {
      "cell_type": "code",
      "source": "",
      "metadata": {
        "trusted": true
      },
      "outputs": [],
      "execution_count": null
    },
    {
      "cell_type": "markdown",
      "source": "### Question 5\nWrite a print statement to display the text `42` (as a string, with quotes).",
      "metadata": {}
    },
    {
      "cell_type": "code",
      "source": "",
      "metadata": {
        "trusted": true
      },
      "outputs": [],
      "execution_count": null
    },
    {
      "cell_type": "markdown",
      "source": "### Question 6 - Written Response\n**Type your answer below:** What is the difference between printing `42` and printing `\"42\"`? Explain in your own words.\n\n**Answer:** ",
      "metadata": {}
    },
    {
      "cell_type": "markdown",
      "source": "## Part 3: Multiple Print Statements\n\n### Question 7\nWrite **three separate** print statements that display:\n1. Your name\n2. Your age\n3. Your favorite food",
      "metadata": {}
    },
    {
      "cell_type": "code",
      "source": "",
      "metadata": {
        "trusted": true
      },
      "outputs": [],
      "execution_count": null
    },
    {
      "cell_type": "markdown",
      "source": "## Part 4: Error Investigation\n\n### Question 8\nType this code **exactly** as written and run it:\n\n```python\nprint(Hello)\n```\n\nWhat happens?",
      "metadata": {}
    },
    {
      "cell_type": "code",
      "source": "",
      "metadata": {
        "trusted": true
      },
      "outputs": [],
      "execution_count": null
    },
    {
      "cell_type": "markdown",
      "source": "### Question 9 - Written Response\n**Type your answer below:** What error message did you get in Question 8? Why do you think this error occurred?\n\n**Answer:** ",
      "metadata": {}
    },
    {
      "cell_type": "markdown",
      "source": "### Question 10\nNow fix the code from Question 8 so it works properly:",
      "metadata": {}
    },
    {
      "cell_type": "code",
      "source": "",
      "metadata": {
        "trusted": true
      },
      "outputs": [],
      "execution_count": null
    },
    {
      "cell_type": "markdown",
      "source": "## Part 5: Creative Challenge\n\n### Question 11\nCreate a \"digital business card\" for yourself using multiple print statements. Include:\n- Your name\n- Your school\n- Your major or area of interest\n- One fun fact about yourself\n\nMake it look nice with spacing and formatting!",
      "metadata": {}
    },
    {
      "cell_type": "code",
      "source": "",
      "metadata": {
        "trusted": true
      },
      "outputs": [],
      "execution_count": null
    },
    {
      "cell_type": "markdown",
      "source": "### Question 12 - Reflection\n**Type your answer below:** What was the most challenging part of this homework? What did you learn?\n\n**Answer:** ",
      "metadata": {}
    },
    {
      "cell_type": "markdown",
      "source": "---\n\n## Submission Checklist\n\n- [ ] All code cells have been completed\n- [ ] All written response questions have been answered\n- [ ] Code runs without errors (except where errors are expected)\n- [ ] Name and date are filled in at the top\n\n**Great job completing Homework 1! 🎉**",
      "metadata": {}
    }
  ]
}
