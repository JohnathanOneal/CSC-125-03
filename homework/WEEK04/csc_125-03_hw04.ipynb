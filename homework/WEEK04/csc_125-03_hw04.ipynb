{
  "metadata": {
    "kernelspec": {
      "language": "python",
      "display_name": "Python 3",
      "name": "python3"
    },
    "language_info": {
      "name": "python",
      "version": "3.11.13",
      "mimetype": "text/x-python",
      "codemirror_mode": {
        "name": "ipython",
        "version": 3
      },
      "pygments_lexer": "ipython3",
      "nbconvert_exporter": "python",
      "file_extension": ".py"
    }
  },
  "nbformat_minor": 4,
  "nbformat": 4,
  "cells": [
    {
      "cell_type": "markdown",
      "source": "# Homework 4: Math Operations and Operators\n\n**Due: Friday by 11:59 PM**\n\n**Instructions:** Complete each section below. Pay attention to operator precedence and make sure to test your code. When you encounter errors, read the error messages carefully to understand what went wrong.",
      "metadata": {}
    },
    {
      "cell_type": "markdown",
      "source": "## Part 1: Arithmetic Operators Practice\n\nLearn to use all the arithmetic operators in Python.",
      "metadata": {}
    },
    {
      "cell_type": "code",
      "source": "# Basic arithmetic with two numbers\nnum1 = 15\nnum2 = 4\n\n# Calculate and store results for each operation:\n# addition_result: num1 + num2\n# subtraction_result: num1 - num2\n# multiplication_result: num1 * num2\n# division_result: num1 / num2\n# floor_division_result: num1 // num2\n# modulo_result: num1 % num2\n# exponent_result: num1 ** num2\n\n# Your code here:\n\n\n# Test your results (code provided):\nprint(f\"{num1} + {num2} = {addition_result}\")\nprint(f\"{num1} - {num2} = {subtraction_result}\")\nprint(f\"{num1} * {num2} = {multiplication_result}\")\nprint(f\"{num1} / {num2} = {division_result}\")\nprint(f\"{num1} // {num2} = {floor_division_result}\")\nprint(f\"{num1} % {num2} = {modulo_result}\")\nprint(f\"{num1} ** {num2} = {exponent_result}\")",
      "metadata": {"trusted": true},
      "outputs": [],
      "execution_count": null
    },
    {
      "cell_type": "code",
      "source": "# Your turn! Work with time conversion\nminutes = 157\n\n# Convert minutes to hours and remaining minutes\n# Hint: think about floor division and modulo\n\n# Your code here:\n\n\n# Test your result:\nprint(f\"{minutes} minutes = {hours} hours and {remaining_minutes} minutes\")",
      "metadata": {"trusted": true},
      "outputs": [],
      "execution_count": null
    },
    {
      "cell_type": "markdown",
      "source": "## Part 2: Operator Precedence\n\nUnderstand how Python evaluates expressions with multiple operators.",
      "metadata": {}
    },
    {
      "cell_type": "code",
      "source": "# Predict the results before running!\n# What do you think each expression will equal?\n\n# Expression 1: 2 + 3 * 4\nresult1 = 2 + 3 * 4\nprint(f\"2 + 3 * 4 = {result1}\")\n\n# Expression 2: (2 + 3) * 4  \nresult2 = (2 + 3) * 4\nprint(f\"(2 + 3) * 4 = {result2}\")\n\n# Expression 3: 10 - 6 / 2\nresult3 = 10 - 6 / 2\nprint(f\"10 - 6 / 2 = {result3}\")\n\n# Expression 4: 2 ** 3 * 4\nresult4 = 2 ** 3 * 4\nprint(f\"2 ** 3 * 4 = {result4}\")",
      "metadata": {"trusted": true},
      "outputs": [],
      "execution_count": null
    },
    {
      "cell_type": "code",
      "source": "# Your turn! Create expressions with different results\n# Use the numbers 6, 3, 2 with different operators and parentheses\n# Try to get these target results:\n\n# Target result: 12\n# expression_12 = \n\n# Target result: 4  \n# expression_4 = \n\n# Target result: 36\n# expression_36 = \n\n# Your code here:\n\n\n# Test your expressions:\nprint(f\"Expression for 12: {expression_12}\")\nprint(f\"Expression for 4: {expression_4}\")\nprint(f\"Expression for 36: {expression_36}\")",
      "metadata": {"trusted": true},
      "outputs": [],
      "execution_count": null
    },
    {
      "cell_type": "markdown",
      "source": "## Part 3: Comparison Operators\n\nLearn to compare values and create boolean expressions.",
      "metadata": {}
    },
    {
      "cell_type": "code",
      "source": "# Student grade comparison\nstudent_grade = 85\npassing_grade = 70\nhonor_grade = 90\n\n# Create boolean variables using comparison operators:\n# Think about what comparisons you need to make\n\n# Your code here:\n\n\n# Test your comparisons:\nprint(f\"Student grade: {student_grade}\")\nprint(f\"Is passing: {is_passing}\")\nprint(f\"Is honor student: {is_honor}\")\nprint(f\"Is perfect score: {is_perfect}\")\nprint(f\"Needs improvement: {needs_improvement}\")",
      "metadata": {"trusted": true},
      "outputs": [],
      "execution_count": null
    },
    {
      "cell_type": "code",
      "source": "# Your turn! Age verification system\nuser_age = int(input(\"Enter your age: \"))\n\n# Create these boolean variables based on the user's age:\n\n# Your code here:\n\n\n# Display results:\nprint(f\"\\nAge verification for {user_age} years old:\")\nprint(f\"Can vote: {can_vote}\")\nprint(f\"Can rent car: {can_rent_car}\")\nprint(f\"Is senior: {is_senior}\")\nprint(f\"Is minor: {is_minor}\")\nprint(f\"Is teenager: {is_teenager}\")",
      "metadata": {"trusted": true},
      "outputs": [],
      "execution_count": null
    },
    {
      "cell_type": "markdown",
      "source": "## Part 4: Assignment Operators\n\nPractice using shorthand assignment operators.",
      "metadata": {}
    },
    {
      "cell_type": "code",
      "source": "# Game score tracking\nscore = 0\nprint(f\"Starting score: {score}\")\n\n# Use assignment operators to update the score:\n# Add 50 points for completing level 1\n# Add 75 points for completing level 2\n# Add 100 points for boss battle\n# Multiply by 1.5 for difficulty bonus\n# Subtract 25 points for using hints\n\n# Your code here (use +=, *=, -=):\n\n\nprint(f\"Final score: {score}\")",
      "metadata": {"trusted": true},
      "outputs": [],
      "execution_count": null
    },
    {
      "cell_type": "code",
      "source": "# Your turn! Bank account simulator\nbalance = float(input(\"Enter starting balance: $\"))\nprint(f\"Starting balance: ${balance:.2f}\")\n\n# Perform these transactions using assignment operators:\n# 1. Deposit $500\n# 2. Withdraw $150\n# 3. Add 2% interest (multiply by 1.02)\n# 4. Subtract $25 monthly fee\n\n# Your code here:\n\n\nprint(f\"Final balance: ${balance:.2f}\")",
      "metadata": {"trusted": true},
      "outputs": [],
      "execution_count": null
    },
    {
      "cell_type": "markdown",
      "source": "## Part 5: Real-World Calculations\n\nApply operators to solve practical problems.",
      "metadata": {}
    },
    {
      "cell_type": "code",
      "source": "# Pizza party calculator\nnum_people = int(input(\"How many people are coming? \"))\nslices_per_person = 3\nslices_per_pizza = 8\n\n# Calculate:\n# total_slices_needed: how many slices total?\n# pizzas_needed: how many whole pizzas to order? (hint: you'll need to round up)\n# extra_slices: how many leftover slices?\n\n# Your code here:\n\n\n# Display results:\nprint(f\"\\nFor {num_people} people:\")\nprint(f\"Total slices needed: {total_slices_needed}\")\nprint(f\"Pizzas to order: {pizzas_needed}\")\nprint(f\"Extra slices: {extra_slices}\")",
      "metadata": {"trusted": true},
      "outputs": [],
      "execution_count": null
    },
    {
      "cell_type": "code",
      "source": "# Your turn! Trip cost calculator\ndistance = float(input(\"Enter trip distance in miles: \"))\nmpg = float(input(\"Enter your car's MPG: \"))\ngas_price = float(input(\"Enter gas price per gallon: $\"))\n\n# Calculate:\n# gallons_needed: how much gas do you need?\n# gas_cost: what's the total cost?\n# cost_per_mile: how much does it cost per mile?\n\n# Your code here:\n\n\n# Display results:\nprint(f\"\\nTrip cost breakdown:\")\nprint(f\"Distance: {distance} miles\")\nprint(f\"Gallons needed: {gallons_needed:.2f}\")\nprint(f\"Total gas cost: ${gas_cost:.2f}\")\nprint(f\"Cost per mile: ${cost_per_mile:.3f}\")",
      "metadata": {"trusted": true},
      "outputs": [],
      "execution_count": null
    },
    {
      "cell_type": "markdown",
      "source": "## Part 6: Debugging Practice\n\nThese code cells have errors related to operators. Find and fix them!",
      "metadata": {}
    },
    {
      "cell_type": "code",
      "source": "# Fix this precedence error\nprice = 10\nquantity = 3\ntax_rate = 0.08\n\n# This should calculate (price * quantity) * (1 + tax_rate)\n# But it's giving the wrong result due to precedence\ntotal = price * quantity * 1 + tax_rate\nprint(f\"Total: ${total}\")",
      "metadata": {"trusted": true},
      "outputs": [],
      "execution_count": null
    },
    {
      "cell_type": "code",
      "source": "# Fix this assignment operator error\ncount = 5\nprint(f\"Starting count: {count}\")\n\n# This should add 10 to count, but there's an error\ncount =+ 10  # Error here!\nprint(f\"After adding 10: {count}\")",
      "metadata": {"trusted": true},
      "outputs": [],
      "execution_count": null
    },
    {
      "cell_type": "code",
      "source": "# Fix this comparison error\nage = \"25\"  # This is a string!\nmin_age = 18\n\n# This comparison won't work as expected\ncan_vote = age >= min_age\nprint(f\"Can vote: {can_vote}\")",
      "metadata": {"trusted": true},
      "outputs": [],
      "execution_count": null
    },
    {
      "cell_type": "markdown",
      "source": "**Debugging Reflection:** In the markdown cell below, explain what you learned from fixing these errors.\n\n**Your answer:**\n*(Double-click this cell to edit it)*",
      "metadata": {}
    },
    {
      "cell_type": "markdown",
      "source": "## Part 7: Complex Expressions\n\nCombine multiple operators in realistic scenarios.",
      "metadata": {}
    },
    {
      "cell_type": "code",
      "source": "# Grade calculator with weighted categories\ntest_score = float(input(\"Enter test score (0-100): \"))\nhomework_score = float(input(\"Enter homework average (0-100): \"))\nparticipation_score = float(input(\"Enter participation score (0-100): \"))\n\n# Weights: tests 50%, homework 30%, participation 20%\n# Calculate final_grade using the weighted average formula\n# final_grade = (test_score * 0.5) + (homework_score * 0.3) + (participation_score * 0.2)\n\n# Also determine letter grade:\n# letter_grade should be \"A\" if final_grade >= 90, \"B\" if >= 80, \"C\" if >= 70, otherwise \"F\"\n\n# Your code here:\n\n\n# Display results:\nprint(f\"\\nGrade Calculation:\")\nprint(f\"Tests (50%): {test_score}\")\nprint(f\"Homework (30%): {homework_score}\")\nprint(f\"Participation (20%): {participation_score}\")\nprint(f\"Final Grade: {final_grade:.1f}%\")\nprint(f\"Letter Grade: {letter_grade}\")",
      "metadata": {"trusted": true},
      "outputs": [],
      "execution_count": null
    },
    {
      "cell_type": "code",
      "source": "# Your turn! Loan payment calculator\nloan_amount = float(input(\"Enter loan amount: $\"))\nannual_rate = float(input(\"Enter annual interest rate (as decimal, e.g., 0.05 for 5%): \"))\nyears = int(input(\"Enter loan term in years: \"))\n\n# Calculate monthly payment using this formula:\n# monthly_rate = annual_rate / 12\n# num_payments = years * 12  \n# monthly_payment = loan_amount * (monthly_rate * (1 + monthly_rate)**num_payments) / ((1 + monthly_rate)**num_payments - 1)\n\n# Also calculate:\n# total_paid = monthly_payment * num_payments\n# total_interest = total_paid - loan_amount\n\n# Your code here:\n\n\n# Display results:\nprint(f\"\\nLoan Payment Calculator:\")\nprint(f\"Loan amount: ${loan_amount:,.2f}\")\nprint(f\"Interest rate: {annual_rate*100:.2f}% annually\")\nprint(f\"Term: {years} years\")\nprint(f\"Monthly payment: ${monthly_payment:.2f}\")\nprint(f\"Total paid: ${total_paid:,.2f}\")\nprint(f\"Total interest: ${total_interest:,.2f}\")",
      "metadata": {"trusted": true},
      "outputs": [],
      "execution_count": null
    },
    {
      "cell_type": "markdown",
      "source": "## Reflection Questions\n\nAnswer these questions in the markdown cells below:",
      "metadata": {}
    },
    {
      "cell_type": "markdown",
      "source": "**1. What's the difference between / and // division operators?**\n\n*(Double-click to edit)*\n\nYour answer:",
      "metadata": {}
    },
    {
      "cell_type": "markdown",
      "source": "**2. Why is operator precedence important in programming?**\n\n*(Double-click to edit)*\n\nYour answer:",
      "metadata": {}
    },
    {
      "cell_type": "markdown",
      "source": "**3. When would you use the modulo (%) operator in a real program?**\n\n*(Double-click to edit)*\n\nYour answer:",
      "metadata": {}
    },
    {
      "cell_type": "markdown",
      "source": "**4. What was the most challenging part of this assignment?**\n\n*(Double-click to edit)*\n\nYour answer:",
      "metadata": {}
    },
    {
      "cell_type": "markdown",
      "source": "## Submission Instructions\n\n1. Make sure all your code runs without errors\n2. Complete all the reflection questions\n3. Download your notebook\n4. Submit via Moodle before Friday 11:59 PM\n\n**Great job completing Week 4! You now understand how to perform calculations and comparisons in Python.**\n## 🐍🐍🐍🐍🐍🐍🐍🐍🐍 (Challenge Problems below)",
      "metadata": {}
    },
    {
      "cell_type": "markdown",
      "source": "## Part 8: Challenge Problems (Optional)\n\nThese are extra challenges if you want more practice!",
      "metadata": {}
    },
    {
      "cell_type": "code",
      "source": "# Challenge 1: Compound interest calculator\n# Ask user for: principal amount, annual interest rate, number of times compounded per year, and years\n# Use the compound interest formula: A = P(1 + r/n)^(nt)\n# Where: A = final amount, P = principal, r = annual rate, n = compounds per year, t = years\n# Calculate and display the final amount and total interest earned\n\n# Your code here:\n",
      "metadata": {"trusted": true},
      "outputs": [],
      "execution_count": null
    },
    {
      "cell_type": "code",
      "source": "# Challenge 2: Temperature conversion with multiple scales\n# Ask user for a temperature and which scale it's in (Celsius, Fahrenheit, or Kelvin)\n# Convert it to the other two scales and display all three\n# Formulas: F = C * 9/5 + 32, K = C + 273.15, C = (F - 32) * 5/9\n# Handle the different input cases and show all conversions\n\n# Your code here:\n",
      "metadata": {"trusted": true},
      "outputs": [],
      "execution_count": null
    },
    {
      "cell_type": "code",
      "source": "# Challenge 3: Time zone converter\n# Ask user for a time in 24-hour format (like 14 for 2 PM)\n# Ask for time difference from UTC (like -5 for Eastern Time)\n# Convert the time to the new timezone\n# Handle wrapping around 24 hours (use modulo)\n# Display both the original time and converted time\n# Example: 14:00 UTC converted to Eastern (-5) should be 9:00\n\n# Your code here:\n",
      "metadata": {"trusted": true},
      "outputs": [],
      "execution_count": null
    }
  ]
}