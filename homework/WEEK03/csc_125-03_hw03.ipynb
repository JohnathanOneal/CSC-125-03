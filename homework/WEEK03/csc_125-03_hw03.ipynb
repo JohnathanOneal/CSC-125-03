{
  "metadata": {
    "kernelspec": {
      "language": "python",
      "display_name": "Python 3",
      "name": "python3"
    },
    "language_info": {
      "name": "python",
      "version": "3.11.13",
      "mimetype": "text/x-python",
      "codemirror_mode": {
        "name": "ipython",
        "version": 3
      },
      "pygments_lexer": "ipython3",
      "nbconvert_exporter": "python",
      "file_extension": ".py"
    }
  },
  "nbformat_minor": 4,
  "nbformat": 4,
  "cells": [
    {
      "cell_type": "markdown",
      "source": "# Homework 3: String Operations and Debugging\n\n**Due: Friday by 11:59 PM**\n\n**Instructions:** Complete each section below. Run your code to test it. When you get errors, read the error messages to understand what went wrong.",
      "metadata": {}
    },
    {
      "cell_type": "markdown",
      "source": "## Part 1: String Methods Practice\n\nUse string methods to clean up and modify text data.",
      "metadata": {}
    },
    {
      "cell_type": "code",
      "source": "# Given this messy user input:\nuser_input = \"  HELLO WORLD  \"\n\n# Use string methods to create these variables:\n# cleaned_input: remove extra spaces from the beginning and end\n# lowercase_input: convert to all lowercase letters\n# title_input: convert to title case (first letter of each word capitalized)\n\n# Your code here:\n\n\n# Test your results (code provided):\nprint(f\"Original: '{user_input}'\")\nprint(f\"Cleaned: '{cleaned_input}'\")\nprint(f\"Lowercase: '{lowercase_input}'\")\nprint(f\"Title: '{title_input}'\")",
      "metadata": {"trusted": true},
      "outputs": [],
      "execution_count": null
    },
    {
      "cell_type": "code",
      "source": "# Your turn! Fix this restaurant order:\norder = \"large pizza with EXTRA cheese\"\n\n# Create a new variable called 'formatted_order' that:\n# 1. Converts the entire string to title case\n# 2. Replaces \"EXTRA\" with \"extra\"\n\n# Your code here:\n\n\n# Test your result:\nprint(f\"Original order: {order}\")\nprint(f\"Formatted order: {formatted_order}\")",
      "metadata": {"trusted": true},
      "outputs": [],
      "execution_count": null
    },
    {
      "cell_type": "markdown",
      "source": "## Part 2: String Indexing\n\nAccess individual characters in strings using index positions.",
      "metadata": {}
    },
    {
      "cell_type": "code",
      "source": "# Run this code to see how indexing works\nword = \"Python\"\nprint(f\"The word is: {word}\")\nprint(f\"Length: {len(word)}\")\nprint(f\"First character (index 0): {word[0]}\")\nprint(f\"Last character (index 5): {word[5]}\")\nprint(f\"Third character (index 2): {word[2]}\")",
      "metadata": {"trusted": true},
      "outputs": [],
      "execution_count": null
    },
    {
      "cell_type": "code",
      "source": "# Your turn! Work with this name:\nfull_name = \"Alice Johnson\"\n\n# Create these variables using indexing:\n# first_letter: the first letter of the full name\n# last_letter: the last letter of the full name\n# middle_letter: the letter at position 6\n\n# Your code here:\n\n\n# Test your results:\nprint(f\"Full name: {full_name}\")\nprint(f\"First letter: {first_letter}\")\nprint(f\"Last letter: {last_letter}\")\nprint(f\"Middle letter: {middle_letter}\")",
      "metadata": {"trusted": true},
      "outputs": [],
      "execution_count": null
    },
    {
      "cell_type": "markdown",
      "source": "## Part 3: String Slicing\n\nExtract parts of strings using slice notation [start:end].",
      "metadata": {}
    },
    {
      "cell_type": "code",
      "source": "# Example: Extract parts of an email address\nemail = \"student@college.edu\"\n\n# Get the username (everything before @)\nusername = email[:email.index(\"@\")]\nprint(f\"Username: {username}\")\n\n# Get the domain (everything after @)\ndomain = email[email.index(\"@\") + 1:]\nprint(f\"Domain: {domain}\")",
      "metadata": {"trusted": true},
      "outputs": [],
      "execution_count": null
    },
    {
      "cell_type": "code",
      "source": "# Your turn! Work with this sentence:\nsentence = \"Learning Python is fun\"\n\n# Create these variables using slicing:\n# first_word: extract \"Learning\" (positions 0 to 8)\n# last_word: extract \"fun\" (positions 16 to end)\n# middle_part: extract \"Python is\" (positions 9 to 18)\n\n# Your code here:\n\n\n# Test your results:\nprint(f\"Original: {sentence}\")\nprint(f\"First word: {first_word}\")\nprint(f\"Last word: {last_word}\")\nprint(f\"Middle part: {middle_part}\")",
      "metadata": {"trusted": true},
      "outputs": [],
      "execution_count": null
    },
    {
      "cell_type": "markdown",
      "source": "## Part 4: F-String Formatting\n\nUse f-strings to create formatted output with variables.",
      "metadata": {}
    },
    {
      "cell_type": "code",
      "source": "# Example: Create a personalized greeting\nname = \"Alex\"\nage = 20\ncity = \"Boston\"\n\n# Using f-strings to create formatted messages\ngreeting = f\"Hello {name}!\"\ninfo = f\"You are {age} years old and live in {city}.\"\nnext_year = f\"Next year you will be {age + 1}.\"\n\nprint(greeting)\nprint(info)\nprint(next_year)",
      "metadata": {"trusted": true},
      "outputs": [],
      "execution_count": null
    },
    {
      "cell_type": "code",
      "source": "# Your turn! Create a product description\nproduct = \"laptop\"\nprice = 899.99\nbrand = \"TechCorp\"\n\n# Create these f-string variables:\n# description: \"The [brand] [product] costs $[price]\"\n# sale_price: \"Sale price: $[price minus 100]\"\n# uppercase_ad: \"BUY THE [PRODUCT IN UPPERCASE] TODAY!\"\n\n# Your code here:\n\n\n# Test your results:\nprint(description)\nprint(sale_price)\nprint(uppercase_ad)",
      "metadata": {"trusted": true},
      "outputs": [],
      "execution_count": null
    },
    {
      "cell_type": "markdown",
      "source": "## Part 5: User Input with String Processing\n\nCombine user input with string methods. Remember: input() always gives you a string, even if the user types numbers!",
      "metadata": {}
    },
    {
      "cell_type": "code",
      "source": "# Example: Clean up user input\nuser_name = input(\"Enter your name: \")\nprint(f\"You entered: '{user_name}'\")\nprint(f\"Type: {type(user_name)}\")\n\n# Clean it up\nclean_name = user_name.strip().title()\nprint(f\"Cleaned up: '{clean_name}'\")",
      "metadata": {"trusted": true},
      "outputs": [],
      "execution_count": null
    },
    {
      "cell_type": "code",
      "source": "# Your turn! Create a simple name processor:\n# Step 1: Get first name from user\nfirst_name = input(\"Enter your first name: \")\n\n# Step 2: Get last name from user\nlast_name = input(\"Enter your last name: \")\n\n# Step 3: Clean up both names (strip spaces and make title case)\nclean_first = first_name.___().___()  # Fill in the methods\nclean_last = last_name.___().___()   # Fill in the methods\n\n# Step 4: Create username (first 3 letters of each name)\nusername = clean_first[:3] + clean_last[:3]\n\n# Step 5: Create welcome message\nwelcome = f\"Welcome {clean_first} {clean_last}! Your username is {username}.\"\n\nprint(welcome)",
      "metadata": {"trusted": true},
      "outputs": [],
      "execution_count": null
    },
    {
      "cell_type": "markdown",
      "source": "## Part 6: Debugging Practice\n\nThese code cells have errors. Read the error messages and fix the problems.",
      "metadata": {}
    },
    {
      "cell_type": "code",
      "source": "# Fix this indexing error\ntext = \"Hello\"\nprint(text[10])  # This will cause an IndexError",
      "metadata": {"trusted": true},
      "outputs": [],
      "execution_count": null
    },
    {
      "cell_type": "code",
      "source": "# Fix this string method error\nname = \"alice\"\nprint(name.Upper())  # This will cause an AttributeError",
      "metadata": {"trusted": true},
      "outputs": [],
      "execution_count": null
    },
    {
      "cell_type": "code",
      "source": "# Fix this f-string error\ncolor = \"blue\"\nprint(f\"My favorite color is {colour}\")  # This will cause a NameError",
      "metadata": {"trusted": true},
      "outputs": [],
      "execution_count": null
    },
    {
      "cell_type": "markdown",
      "source": "**Debugging Reflection:** In the markdown cell below, explain what you learned from fixing these errors.\n\n**Your answer:**\n*(Double-click this cell to edit it)*",
      "metadata": {}
    },
    {
      "cell_type": "markdown",
      "source": "## Part 7: Putting It All Together\n\nCreate a program that processes a customer order.",
      "metadata": {}
    },
    {
      "cell_type": "code",
      "source": "# Create a customer order processing program:\n# 1. Ask the user for their name\n# 2. Ask them what item they want to order\n# 3. Ask for the quantity (as a number)\n# 4. Clean up the name (strip and title case)\n# 5. Clean up the item name (strip and lowercase)\n# 6. Create an order confirmation message using f-strings\n# 7. Display the customer's initials (first letter of first and last name)\n\n# Example output:\n# \"Order confirmed for J.D.: 3 pizza(s)\"\n# \"Customer initials: J.D.\"\n\n# Your code here:\n",
      "metadata": {"trusted": true},
      "outputs": [],
      "execution_count": null
    },
    {
      "cell_type": "markdown",
      "source": "## Reflection Questions\n\nAnswer these questions in the markdown cells below:",
      "metadata": {}
    },
    {
      "cell_type": "markdown",
      "source": "**1. What is the difference between text[0] and text[0:1]?**\n\n*(Double-click to edit)*\n\nYour answer:",
      "metadata": {}
    },
    {
      "cell_type": "markdown",
      "source": "**2. When would you use .strip() on user input?**\n\n*(Double-click to edit)*\n\nYour answer:",
      "metadata": {}
    },
    {
      "cell_type": "markdown",
      "source": "**3. What was the most useful thing you learned about debugging from this assignment?**\n\n*(Double-click to edit)*\n\nYour answer:",
      "metadata": {}
    },
    {
      "cell_type": "markdown",
      "source": "## Submission Instructions\n\n1. Make sure all your code runs without errors\n2. Complete all the reflection questions\n3. Save your notebook\n4. Submit via Moodle before Friday 11:59 PM\n\nYou now know how to work with strings in Python and debug common errors.\n## 🐍🐍🐍🐍🐍🐍🐍🐍🐍 (Challenge Problems below)",
      "metadata": {}
    },
    {
      "cell_type": "markdown",
      "source": "## Part 8: Challenge Problems (Optional)\n\nThese are extra challenges if you want more practice!",
      "metadata": {}
    },
    {
      "cell_type": "code",
      "source": "# Challenge 1: Text message formatter\n# Ask the user for a text message\n# Count how many characters it has\n# If it's longer than 20 characters, show only the first 20 characters + \"...\"\n# If it's 20 characters or less, show the whole message in uppercase\n# Also show the first and last character of the original message\n\n# Your code here:\n",
      "metadata": {"trusted": true},
      "outputs": [],
      "execution_count": null
    },
    {
      "cell_type": "code",
      "source": "# Challenge 2: Email validator\n# Ask the user for an email address\n# Check if it contains exactly one @ symbol (use .count() method)\n# Extract and display the username and domain parts\n# Create a \"display name\" by taking the username and making it title case\n# Show a summary with all the information\n\n# Your code here:\n",
      "metadata": {"trusted": true},
      "outputs": [],
      "execution_count": null
    },
    {
      "cell_type": "code",
      "source": "# Challenge 3: Password strength checker\n# Ask the user to create a password\n# Check the length of the password\n# Check if it contains both uppercase and lowercase letters\n# Show the first 2 and last 2 characters (but replace middle with stars)\n# Give feedback about the password strength\n# Hint: Use .islower() and .isupper() methods to check for upper/lowercase\n\n# Your code here:\n",
      "metadata": {"trusted": true},
      "outputs": [],
      "execution_count": null
    }
  ]
}