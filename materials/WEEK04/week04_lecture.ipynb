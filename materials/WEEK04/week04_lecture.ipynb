{
  "metadata": {
    "kernelspec": {
      "display_name": "Python 3",
      "language": "python",
      "name": "python3"
    },
    "language_info": {
      "name": "python",
      "version": "3.11.13",
      "mimetype": "text/x-python",
      "codemirror_mode": {
        "name": "ipython",
        "version": 3
      },
      "pygments_lexer": "ipython3",
      "nbconvert_exporter": "python",
      "file_extension": ".py"
    },
    "kaggle": {
      "accelerator": "none",
      "dataSources": [],
      "dockerImageVersionId": 31089,
      "isInternetEnabled": true,
      "language": "python",
      "sourceType": "notebook",
      "isGpuEnabled": false
    }
  },
  "nbformat_minor": 4,
  "nbformat": 4,
  "cells": [
    {
      "cell_type": "markdown",
      "source": "# Math Operations and Operators\n## Lecture Material for Introduction to Programming\n\n### Topics Covered:\n- Arithmetic operators and their practical uses\n- Understanding operator precedence (order of operations)\n- Comparison operators for decision-making logic\n- Assignment operators for efficient code\n- Boolean expressions and their evaluation\n\n---",
      "metadata": {}
    },
    {
      "cell_type": "markdown",
      "source": "## 1. Arithmetic Operators - Python's Calculator\n\nPython can perform all the mathematical operations you learned in school, plus a few extra ones that are particularly useful in programming.\n\n### The Seven Arithmetic Operators\n\nThink of these as Python's built-in calculator functions:",
      "metadata": {}
    },
    {
      "cell_type": "code",
      "source": "# Let's explore each arithmetic operator with practical examples\na = 17\nb = 5\n\nprint(f\"Working with a = {a} and b = {b}\")\nprint()\n\n# Addition (+) - combining values\naddition = a + b\nprint(f\"Addition: {a} + {b} = {addition}\")\n\n# Subtraction (-) - finding the difference\nsubtraction = a - b\nprint(f\"Subtraction: {a} - {b} = {subtraction}\")\n\n# Multiplication (*) - repeated addition\nmultiplication = a * b\nprint(f\"Multiplication: {a} * {b} = {multiplication}\")",
      "metadata": {
        "trusted": true
      },
      "outputs": [],
      "execution_count": null
    },
    {
      "cell_type": "code",
      "source": "# Division (/) - always returns a decimal (float)\ndivision = a / b\nprint(f\"Division: {a} / {b} = {division}\")\nprint(f\"Notice: Division always gives a decimal, even for {10} / {5} = {10/5}\")\nprint()\n\n# Floor Division (//) - division rounded down to whole number\nfloor_division = a // b\nprint(f\"Floor Division: {a} // {b} = {floor_division}\")\n\n# Modulo (%) - remainder after division\nmodulo = a % b\nprint(f\"Modulo: {a} % {b} = {modulo}\")\nprint(f\"This means: {a} ÷ {b} = {floor_division} remainder {modulo}\")\n\n# Exponentiation (**) - raising to a power\nexponent = a ** b\nprint(f\"Exponentiation: {a} ** {b} = {exponent}\")",
      "metadata": {
        "trusted": true
      },
      "outputs": [],
      "execution_count": null
    },
    {
      "cell_type": "markdown",
      "source": "### Real-World Applications",
      "metadata": {}
    },
    {
      "cell_type": "code",
      "source": "# Time conversion using floor division and modulo\ntotal_seconds = 3725\nhours = total_seconds // 3600  # 3600 seconds in an hour\nremaining_seconds = total_seconds % 3600\nminutes = remaining_seconds // 60\nseconds = remaining_seconds % 60\n\nprint(f\"{total_seconds} seconds = {hours} hours, {minutes} minutes, {seconds} seconds\")\n\n# Checking if numbers are even or odd (modulo)\nnumber = 23\nif number % 2 == 0:\n    print(f\"{number} is even\")\nelse:\n    print(f\"{number} is odd\")",
      "metadata": {
        "trusted": true
      },
      "outputs": [],
      "execution_count": null
    },
    {
      "cell_type": "markdown",
      "source": "---\n\n## 2. Operator Precedence - The Order Matters!\n\nJust like in mathematics class, Python follows a specific order when evaluating expressions with multiple operators.\n\n### Remember PEMDAS? Python Uses Similar Rules\n\n**P**arentheses → **E**xponents → **M**ultiplication/**D**ivision → **A**ddition/**S**ubtraction",
      "metadata": {}
    },
    {
      "cell_type": "code",
      "source": "# Let's see precedence in action\nprint(\"Demonstrating Operator Precedence:\")\nprint()\n\n# Example 1: Multiplication before addition\nresult1 = 2 + 3 * 4\nprint(f\"2 + 3 * 4 = {result1}\")\nprint(\"Step by step: 3 * 4 = 12, then 2 + 12 = 14\")\nprint()\n\n# Example 2: Parentheses override precedence\nresult2 = (2 + 3) * 4\nprint(f\"(2 + 3) * 4 = {result2}\")\nprint(\"Step by step: (2 + 3) = 5, then 5 * 4 = 20\")\nprint()\n\n# Example 3: Complex expression\nresult3 = 10 + 2 * 3 ** 2 - 4 / 2\nprint(f\"10 + 2 * 3 ** 2 - 4 / 2 = {result3}\")\nprint(\"Step by step: 3**2=9, 2*9=18, 4/2=2, 10+18-2=26\")",
      "metadata": {
        "trusted": true
      },
      "outputs": [],
      "execution_count": null
    },
    {
      "cell_type": "markdown",
      "source": "### When in Doubt, Use Parentheses!",
      "metadata": {}
    },
    {
      "cell_type": "code",
      "source": "# Examples of using parentheses for clarity\n\n# Calculating average temperature\ntemp1, temp2, temp3 = 72, 75, 68\naverage = (temp1 + temp2 + temp3) / 3\nprint(f\"Average temperature: {average:.1f}°F\")\n\n# Financial calculation: compound interest\nprincipal = 1000\nrate = 0.05\ntime = 2\namount = principal * (1 + rate) ** time\nprint(f\"Investment grows to: ${amount:.2f}\")",
      "metadata": {
        "trusted": true
      },
      "outputs": [],
      "execution_count": null
    },
    {
      "cell_type": "markdown",
      "source": "---\n\n## 3. Comparison Operators - Making Decisions\n\nComparison operators let you compare values and get True/False answers. These are essential for decision-making in programs.",
      "metadata": {}
    },
    {
      "cell_type": "code",
      "source": "# Let's explore comparison operators with age verification\nuser_age = 22\nvoting_age = 18\nsenior_age = 65\n\nprint(f\"User age: {user_age}\")\nprint()\n\n# The six comparison operators\nprint(f\"Equal to (==): {user_age == voting_age}\")\nprint(f\"Not equal (!=): {user_age != voting_age}\")\nprint(f\"Greater than (>): {user_age > voting_age}\")\nprint(f\"Less than (<): {user_age < senior_age}\")\nprint(f\"Greater or equal (>=): {user_age >= voting_age}\")\nprint(f\"Less or equal (<=): {user_age <= senior_age}\")",
      "metadata": {
        "trusted": true
      },
      "outputs": [],
      "execution_count": null
    },
    {
      "cell_type": "markdown",
      "source": "### Comparing Different Data Types",
      "metadata": {}
    },
    {
      "cell_type": "code",
      "source": "# Comparing strings (alphabetical order)\nname1 = \"Alice\"\nname2 = \"Bob\"\nname3 = \"alice\"  # Notice the lowercase\n\nprint(\"String comparisons:\")\nprint(f\"'{name1}' < '{name2}': {name1 < name2}\")\nprint(f\"'{name1}' == '{name3}': {name1 == name3}\")\nprint(f\"'{name1}'.lower() == '{name3}': {name1.lower() == name3}\")\nprint()\n\n# Comparing numbers and strings - be careful!\nage_number = 25\nage_string = \"25\"\nprint(f\"Number vs String: {age_number == age_string}\")\nprint(f\"Convert and compare: {age_number == int(age_string)}\")",
      "metadata": {
        "trusted": true
      },
      "outputs": [],
      "execution_count": null
    },
    {
      "cell_type": "markdown",
      "source": "---\n\n## 4. Assignment Operators - Efficient Updates\n\nAssignment operators provide shortcuts for updating variables. They make your code more concise.",
      "metadata": {}
    },
    {
      "cell_type": "code",
      "source": "# Starting with a simple counter\ncount = 0\nprint(f\"Starting count: {count}\")\n\n# Traditional way vs shorthand\ncount = count + 1  # Traditional\nprint(f\"After count = count + 1: {count}\")\n\ncount += 5   # Shorthand: same as count = count + 5\nprint(f\"After count += 5: {count}\")\n\ncount -= 2   # Subtract 2\nprint(f\"After count -= 2: {count}\")\n\ncount *= 3   # Multiply by 3\nprint(f\"After count *= 3: {count}\")\n\ncount /= 2   # Divide by 2\nprint(f\"After count /= 2: {count}\")",
      "metadata": {
        "trusted": true
      },
      "outputs": [],
      "execution_count": null
    },
    {
      "cell_type": "markdown",
      "source": "### Real-World Example",
      "metadata": {}
    },
    {
      "cell_type": "code",
      "source": "# Game score tracking\nplayer_score = 0\nprint(f\"Game started. Score: {player_score}\")\n\nplayer_score += 100  # Found treasure\nprint(f\"Found treasure! Score: {player_score}\")\n\nplayer_score += 250  # Defeated boss\nprint(f\"Defeated boss! Score: {player_score}\")\n\nplayer_score *= 2    # Score multiplier bonus\nprint(f\"Score multiplier! Final score: {player_score}\")",
      "metadata": {
        "trusted": true
      },
      "outputs": [],
      "execution_count": null
    },
    {
      "cell_type": "markdown",
      "source": "---\n\n## 5. Boolean Expressions - True or False Logic\n\nBoolean expressions are the foundation of decision-making in programming. They always evaluate to either `True` or `False`.",
      "metadata": {}
    },
    {
      "cell_type": "code",
      "source": "# Simple boolean expressions\nage = 20\ntest_score = 85\n\nprint(\"Boolean expression examples:\")\nprint(f\"age >= 18: {age >= 18}\")\nprint(f\"test_score == 100: {test_score == 100}\")\nprint(f\"test_score > 80: {test_score > 80}\")\nprint()\n\n# Storing boolean results in variables\ncan_vote = age >= 18\nis_honor_student = test_score >= 90\npassed_test = test_score >= 70\n\nprint(\"Stored boolean results:\")\nprint(f\"can_vote: {can_vote}\")\nprint(f\"is_honor_student: {is_honor_student}\")\nprint(f\"passed_test: {passed_test}\")",
      "metadata": {
        "trusted": true
      },
      "outputs": [],
      "execution_count": null
    },
    {
      "cell_type": "markdown",
      "source": "### Python's Special Feature: Chained Comparisons",
      "metadata": {}
    },
    {
      "cell_type": "code",
      "source": "# Python allows chained comparisons - very useful!\nscore = 85\ntemperature = 72\n\n# Python's chained comparison (more readable)\nis_good_grade = 80 <= score <= 100\nprint(f\"Good grade (80-100): {is_good_grade}\")\n\nis_comfortable_temp = 68 <= temperature <= 78\nprint(f\"Comfortable temperature: {is_comfortable_temp}\")\n\n# Age ranges\nage = 25\nis_young_adult = 18 <= age <= 30\nprint(f\"Is young adult (18-30): {is_young_adult}\")",
      "metadata": {
        "trusted": true
      },
      "outputs": [],
      "execution_count": null
    },
    {
      "cell_type": "markdown",
      "source": "---\n\n## 6. Common Operator Mistakes\n\nLet's look at some common mistakes and how to avoid them.",
      "metadata": {}
    },
    {
      "cell_type": "code",
      "source": "# Mistake 1: Confusing = and ==\nage = 18  # Assignment: storing a value\ncan_vote = age >= 18  # Comparison: checking a condition\nprint(f\"Can vote: {can_vote}\")\n\n# Mistake 2: Forgetting operator precedence\nprice = 10.00\nquantity = 3\ntax_rate = 0.08\n\n# Wrong way (precedence issues)\nwrong_total = price * quantity + tax_rate\nprint(f\"Wrong calculation: ${wrong_total:.2f}\")\n\n# Right way (with parentheses)\nsubtotal = price * quantity\ncorrect_total = subtotal * (1 + tax_rate)\nprint(f\"Correct calculation: ${correct_total:.2f}\")",
      "metadata": {
        "trusted": true
      },
      "outputs": [],
      "execution_count": null
    },
    {
      "cell_type": "code",
      "source": "# Mistake 3: Comparing different data types\nuser_input = \"25\"  # String from input()\nmin_age = 18       # Number\n\n# Wrong: comparing string to number\nprint(f\"String vs number comparison: {user_input >= str(min_age)}\")\n\n# Right: convert to same type first\nuser_age = int(user_input)\ncan_vote = user_age >= min_age\nprint(f\"Correct comparison: {user_age} >= {min_age} = {can_vote}\")",
      "metadata": {
        "trusted": true
      },
      "outputs": [],
      "execution_count": null
    },
    {
      "cell_type": "markdown",
      "source": "---\n\n## 7. Summary and Key Takeaways\n\n### What We Covered Today:\n\n1. **Arithmetic Operators**: `+`, `-`, `*`, `/`, `//`, `%`, `**`\n   - Each has specific uses in real-world problems\n   - Floor division and modulo are especially useful\n\n2. **Operator Precedence**: Order matters in complex expressions\n   - Python follows mathematical order of operations\n   - Use parentheses when in doubt\n\n3. **Comparison Operators**: `==`, `!=`, `<`, `>`, `<=`, `>=`\n   - Always return `True` or `False`\n   - Essential for decision-making\n\n4. **Assignment Operators**: `=`, `+=`, `-=`, `*=`, `/=`\n   - Shortcuts for updating variables\n   - Make code more concise\n\n5. **Boolean Expressions**: Foundation of program logic\n   - Chained comparisons are a Python specialty\n   - Store results in variables for clarity\n\n### Key Points to Remember:\n\n- **Use parentheses** to make intentions clear\n- **Convert data types** before comparing\n- **`=` stores, `==` compares**\n- **`//` gives whole numbers, `/` gives decimals**\n- **`%` is great for remainders and even/odd checks**\n\nNext week: **Conditional Logic** - we'll use these boolean expressions to make decisions with if statements!",
      "metadata": {}
    }
  ]
}