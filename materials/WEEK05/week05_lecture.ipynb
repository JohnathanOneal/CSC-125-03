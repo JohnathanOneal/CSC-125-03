{
  "metadata": {
    "kernelspec": {
      "display_name": "Python 3",
      "language": "python",
      "name": "python3"
    },
    "language_info": {
      "name": "python",
      "version": "3.11.13",
      "mimetype": "text/x-python",
      "codemirror_mode": {
        "name": "ipython",
        "version": 3
      },
      "pygments_lexer": "ipython3",
      "nbconvert_exporter": "python",
      "file_extension": ".py"
    },
    "kaggle": {
      "accelerator": "none",
      "dataSources": [],
      "dockerImageVersionId": 31089,
      "isInternetEnabled": true,
      "language": "python",
      "sourceType": "notebook",
      "isGpuEnabled": false
    }
  },
  "nbformat_minor": 4,
  "nbformat": 4,
  "cells": [
    {
      "cell_type": "markdown",
      "source": "# Conditional Logic\n## Lecture Material for Introduction to Programming\n\n### Topics Covered:\n- Basic if statements for simple decisions\n- If-else statements for two-way choices\n- If-elif-else chains for multiple options\n- Logical operators (and, or, not) for complex conditions\n- Nested conditionals for advanced decision-making\n- Python indentation rules and common errors\n\n---",
      "metadata": {}
    },
    {
      "cell_type": "markdown",
      "source": "## 1. Introduction: Why Do Programs Need to Make Decisions?\n\nUp until now, our programs have been like following a recipe step-by-step. But real programs need to make decisions based on different situations:\n\n- A login system needs to check if the password is correct\n- A game needs to determine if the player won or lost\n- A calculator needs to handle different operations\n- A website needs to show different content to different users\n\nToday we'll learn how to give our programs the ability to make these kinds of decisions.",
      "metadata": {}
    },
    {
      "cell_type": "markdown",
      "source": "## 2. Basic If Statements - Simple Decision Making\n\nThe `if` statement is the foundation of decision-making in programming. It says: \"IF this condition is true, THEN do this action.\"\n\n### Basic Syntax\n```python\nif condition:\n    # code to execute if condition is True\n```\n\n**Important:** Notice the colon `:` and the indentation (4 spaces)!",
      "metadata": {}
    },
    {
      "cell_type": "code",
      "source": "# Simple if statement example\nage = 20\n\nif age >= 18:\n    print(\"You are an adult!\")\n    print(\"You can vote.\")\n\nprint(\"This line always runs, regardless of age.\")",
      "metadata": {
        "trusted": true
      },
      "outputs": [],
      "execution_count": null
    },
    {
      "cell_type": "code",
      "source": "# Let's try with different ages\nage = 16\n\nif age >= 18:\n    print(\"You are an adult!\")\n    print(\"You can vote.\")\n\nprint(\"This line always runs, regardless of age.\")",
      "metadata": {
        "trusted": true
      },
      "outputs": [],
      "execution_count": null
    },
    {
      "cell_type": "markdown",
      "source": "### Multiple If Statements\n\nYou can have multiple separate if statements. Each one is checked independently.",
      "metadata": {}
    },
    {
      "cell_type": "code",
      "source": "# Multiple if statements - each is checked separately\ntemperature = 85\n\nif temperature > 80:\n    print(\"It's hot outside!\")\n\nif temperature > 90:\n    print(\"It's very hot!\")\n\nif temperature > 100:\n    print(\"It's dangerously hot!\")\n\nif temperature < 32:\n    print(\"It's freezing!\")\n\nprint(f\"Current temperature: {temperature}°F\")",
      "metadata": {
        "trusted": true
      },
      "outputs": [],
      "execution_count": null
    },
    {
      "cell_type": "markdown",
      "source": "### Using Boolean Variables in If Statements",
      "metadata": {}
    },
    {
      "cell_type": "code",
      "source": "# Using boolean variables and expressions\nhas_license = True\nage = 17\nis_adult = age >= 18  # This creates a boolean variable\n\nprint(f\"Age: {age}\")\nprint(f\"Has license: {has_license}\")\nprint(f\"Is adult: {is_adult}\")\nprint()\n\nif has_license:\n    print(\"You have a driver's license\")\n\nif is_adult:\n    print(\"You are legally an adult\")\n\nif has_license and is_adult:\n    print(\"You can rent a car!\")",
      "metadata": {
        "trusted": true
      },
      "outputs": [],
      "execution_count": null
    },
    {
      "cell_type": "markdown",
      "source": "---\n\n## 3. If-Else Statements - Two-Way Decisions\n\nSometimes you want to do one thing if a condition is true, and something different if it's false. That's where `if-else` comes in.\n\n### Basic If-Else Syntax\n```python\nif condition:\n    # code if condition is True\nelse:\n    # code if condition is False\n```\n\n**Key Point:** Exactly one block will always execute - either the if block or the else block, never both, never neither.",
      "metadata": {}
    },
    {
      "cell_type": "code",
      "source": "# Basic if-else example\nnumber = 17\n\nif number % 2 == 0:\n    print(f\"{number} is even\")\n    result = \"even\"\nelse:\n    print(f\"{number} is odd\")\n    result = \"odd\"\n\nprint(f\"The number {number} is {result}\")",
      "metadata": {
        "trusted": true
      },
      "outputs": [],
      "execution_count": null
    },
    {
      "cell_type": "code",
      "source": "# Grade checker with if-else\nscore = 75\n\nif score >= 60:\n    print(\"Congratulations! You passed!\")\n    status = \"PASS\"\nelse:\n    print(\"Unfortunately, you failed.\")\n    status = \"FAIL\"\n\nprint(f\"Final status: {status}\")\nprint(f\"Your score was {score}\")",
      "metadata": {
        "trusted": true
      },
      "outputs": [],
      "execution_count": null
    },
    {
      "cell_type": "markdown",
      "source": "### Practical Example: User Authentication",
      "metadata": {}
    },
    {
      "cell_type": "code",
      "source": "# Simple authentication system\nusername = input(\"Enter username: \")\nexpected_username = \"admin\"\n\nif username == expected_username:\n    print(\"Login successful!\")\n    print(\"Welcome to the system!\")\n    access_granted = True\nelse:\n    print(\"Login failed!\")\n    print(\"Invalid username.\")\n    access_granted = False\n\nprint(f\"Access granted: {access_granted}\")",
      "metadata": {
        "trusted": true
      },
      "outputs": [],
      "execution_count": null
    },
    {
      "cell_type": "markdown",
      "source": "---\n\n## 4. If-Elif-Else Chains - Multiple Choices\n\nWhen you have more than two possible outcomes, you can use `elif` (short for \"else if\") to create a chain of conditions.\n\n### If-Elif-Else Syntax\n```python\nif condition1:\n    # code for condition1\nelif condition2:\n    # code for condition2\nelif condition3:\n    # code for condition3\nelse:\n    # code if none of the above are true\n```\n\n**Important:** Python checks conditions from top to bottom and stops at the first one that's True.",
      "metadata": {}
    },
    {
      "cell_type": "code",
      "source": "# Grade calculator with multiple letter grades\nscore = 87\n\nif score >= 90:\n    letter_grade = \"A\"\n    message = \"Excellent work!\"\nelif score >= 80:\n    letter_grade = \"B\"\n    message = \"Good job!\"\nelif score >= 70:\n    letter_grade = \"C\"\n    message = \"Satisfactory\"\nelif score >= 60:\n    letter_grade = \"D\"\n    message = \"Needs improvement\"\nelse:\n    letter_grade = \"F\"\n    message = \"Failed - please see instructor\"\n\nprint(f\"Score: {score}\")\nprint(f\"Grade: {letter_grade}\")\nprint(f\"Comment: {message}\")",
      "metadata": {
        "trusted": true
      },
      "outputs": [],
      "execution_count": null
    },
    {
      "cell_type": "markdown",
      "source": "### Practical Example: Age Categories",
      "metadata": {}
    },
    {
      "cell_type": "code",
      "source": "# Age categorization system\nage = int(input(\"Enter your age: \"))\n\nif age < 0:\n    category = \"Invalid\"\n    ticket_price = 0\n    print(\"Invalid age entered!\")\nelif age <= 12:\n    category = \"Child\"\n    ticket_price = 5\nelif age <= 17:\n    category = \"Teenager\"\n    ticket_price = 8\nelif age <= 64:\n    category = \"Adult\"\n    ticket_price = 12\nelse:\n    category = \"Senior\"\n    ticket_price = 8\n\nprint(f\"Age: {age}\")\nprint(f\"Category: {category}\")\nprint(f\"Ticket Price: ${ticket_price}\")",
      "metadata": {
        "trusted": true
      },
      "outputs": [],
      "execution_count": null
    },
    {
      "cell_type": "markdown",
      "source": "---\n\n## 5. Logical Operators - Combining Conditions\n\nSometimes you need to check multiple conditions at once. Python provides three logical operators:\n\n- `and` - Both conditions must be True\n- `or` - At least one condition must be True  \n- `not` - Reverses True/False\n\n### Truth Table Reference\n\n| A     | B     | A and B | A or B |\n|-------|-------|---------|--------|\n| True  | True  | True    | True   |\n| True  | False | False   | True   |\n| False | True  | False   | True   |\n| False | False | False   | False  |",
      "metadata": {}
    },
    {
      "cell_type": "code",
      "source": "# Using 'and' - both conditions must be True\nage = 25\nhas_license = True\n\nprint(f\"Age: {age}, Has license: {has_license}\")\nprint()\n\nif age >= 16 and has_license:\n    print(\"You can drive a car!\")\n    print(\"Both conditions are met: age >= 16 AND has license\")\nelse:\n    print(\"You cannot drive a car.\")\n    if age < 16:\n        print(\"Reason: Too young\")\n    if not has_license:\n        print(\"Reason: No license\")",
      "metadata": {
        "trusted": true
      },
      "outputs": [],
      "execution_count": null
    },
    {
      "cell_type": "code",
      "source": "# Using 'or' - at least one condition must be True\nis_weekend = True\nis_holiday = False\n\nprint(f\"Is weekend: {is_weekend}, Is holiday: {is_holiday}\")\nprint()\n\nif is_weekend or is_holiday:\n    print(\"You don't have to work today!\")\n    print(\"At least one condition is True\")\nelse:\n    print(\"It's a work day.\")",
      "metadata": {
        "trusted": true
      },
      "outputs": [],
      "execution_count": null
    },
    {
      "cell_type": "code",
      "source": "# Using 'not' - reverses True/False\nlogin_successful = False\n\nprint(f\"Login successful: {login_successful}\")\nprint(f\"Not login successful: {not login_successful}\")\nprint()\n\nif not login_successful:\n    print(\"Access denied!\")\n    print(\"Please check your credentials and try again.\")\nelse:\n    print(\"Welcome to the system!\")",
      "metadata": {
        "trusted": true
      },
      "outputs": [],
      "execution_count": null
    },
    {
      "cell_type": "markdown",
      "source": "### Combining Multiple Conditions",
      "metadata": {}
    },
    {
      "cell_type": "code",
      "source": "# Event admission system\nage = 20\nhas_ticket = True\nis_vip = False\n\nprint(f\"Age: {age}, Has ticket: {has_ticket}, VIP: {is_vip}\")\nprint()\n\nif age >= 18 and has_ticket:\n    if is_vip or age >= 21:\n        print(\"Welcome to VIP section!\")\n    else:\n        print(\"General admission\")\nelif age >= 18:\n    print(\"You need a ticket\")\nelse:\n    print(\"Must be 18 or older\")",
      "metadata": {
        "trusted": true
      },
      "outputs": [],
      "execution_count": null
    },
    {
      "cell_type": "markdown",
      "source": "---\n\n## 6. Nested Conditionals - Decisions Within Decisions\n\nSometimes you need to make a decision, and then based on that decision, make another decision. This is called \"nesting\" conditionals.\n\n### When to Use Nested Conditionals\n\n- When the second decision only makes sense after the first\n- When you want to break down complex logic into smaller steps\n- When different paths require different sets of follow-up decisions",
      "metadata": {}
    },
    {
      "cell_type": "code",
      "source": "# Movie ticket pricing with student discounts\nage = int(input(\"Enter your age: \"))\nis_student = input(\"Are you a student? (yes/no): \").lower() == \"yes\"\n\nprint(f\"Age: {age}, Student: {is_student}\")\nprint()\n\nif age < 18:\n    price = 8\n    print(f\"Child ticket: ${price}\")\nelif age >= 65:\n    price = 10\n    print(f\"Senior ticket: ${price}\")\nelse:\n    # Nested decision for adults\n    print(\"Adult pricing:\")\n    if is_student:\n        price = 12\n        print(f\"Student discount applied: ${price}\")\n    else:\n        price = 15\n        print(f\"Regular adult price: ${price}\")\n\nprint(f\"\\nTotal cost: ${price}\")",
      "metadata": {
        "trusted": true
      },
      "outputs": [],
      "execution_count": null
    },
    {
      "cell_type": "markdown",
      "source": "---\n\n## 7. Python Indentation Rules - CRITICAL!\n\nPython uses indentation (spaces) to group code together. This is not just for looks - it's how Python understands your program structure!\n\n### Indentation Requirements\n\n1. **Use 4 spaces** for each level of indentation\n2. **Be consistent** - all lines at the same level must have the same indentation\n3. **Colon required** - every if, elif, and else must end with a colon `:` \n4. **No mixing tabs and spaces**",
      "metadata": {}
    },
    {
      "cell_type": "code",
      "source": "# CORRECT indentation example\nage = 20\nhas_license = True\n\nif age >= 18:                    # 0 spaces (main level)\n    print(\"You are an adult\")    # 4 spaces (inside if)\n    print(\"You can vote\")        # 4 spaces (same level)\n    \n    if has_license:              # 4 spaces (nested if)\n        print(\"You can drive\")   # 8 spaces (inside nested if)\n        print(\"Be safe!\")        # 8 spaces (same level)\n    else:                        # 4 spaces (nested else)\n        print(\"Get a license\")   # 8 spaces (inside nested else)\n        \nprint(\"This always runs\")       # 0 spaces (back to main level)",
      "metadata": {
        "trusted": true
      },
      "outputs": [],
      "execution_count": null
    },
    {
      "cell_type": "markdown",
      "source": "### Common Indentation Errors",
      "metadata": {}
    },
    {
      "cell_type": "code",
      "source": "# Common errors (these are commented out to avoid breaking the notebook)\n\n# ERROR 1: Missing colon\n# if age >= 18\n#     print(\"Missing colon!\")\n\n# ERROR 2: No indentation\n# if age >= 18:\n# print(\"No indentation!\")\n\n# ERROR 3: Inconsistent indentation\n# if age >= 18:\n#     print(\"4 spaces\")\n#   print(\"2 spaces - ERROR!\")\n\nprint(\"The examples above show common errors - they're commented out\")\nprint(\"When you make these mistakes, Python will give you an error message\")",
      "metadata": {
        "trusted": true
      },
      "outputs": [],
      "execution_count": null
    },
    {
      "cell_type": "markdown",
      "source": "---\n\n## 8. Putting It All Together - Complete Examples\n\nLet's build some complete programs that demonstrate all the concepts we've learned.\n\n### Example 1: Simple Calculator",
      "metadata": {}
    },
    {
      "cell_type": "code",
      "source": "# Simple calculator with error handling\nprint(\"=== Simple Calculator ===\")\n\nnum1 = float(input(\"Enter first number: \"))\noperator = input(\"Enter operator (+, -, *, /): \")\nnum2 = float(input(\"Enter second number: \"))\n\nprint(f\"\\nCalculating: {num1} {operator} {num2}\")\n\nif operator == \"+\":\n    result = num1 + num2\n    print(f\"Result: {result}\")\nelif operator == \"-\":\n    result = num1 - num2\n    print(f\"Result: {result}\")\nelif operator == \"*\":\n    result = num1 * num2\n    print(f\"Result: {result}\")\nelif operator == \"/\":\n    if num2 != 0:\n        result = num1 / num2\n        print(f\"Result: {result}\")\n    else:\n        print(\"Error: Cannot divide by zero!\")\nelse:\n    print(f\"Error: Unknown operator '{operator}'\")\n    print(\"Please use +, -, *, or /\")\n\nprint(\"\\nThank you for using the calculator!\")",
      "metadata": {
        "trusted": true
      },
      "outputs": [],
      "execution_count": null
    },
    {
      "cell_type": "markdown",
      "source": "### Example 2: Grade Calculator",
      "metadata": {}
    },
    {
      "cell_type": "code",
      "source": "# Grade calculator with validation\nprint(\"=== Grade Calculator ===\")\n\ntest_score = float(input(\"Enter test score (0-100): \"))\nhomework_score = float(input(\"Enter homework average (0-100): \"))\nparticipation_score = float(input(\"Enter participation score (0-100): \"))\n\nprint(\"\\n=== Results ===\")\n\n# Validate input\nif (0 <= test_score <= 100 and \n    0 <= homework_score <= 100 and \n    0 <= participation_score <= 100):\n    \n    # Calculate weighted average: Test 50%, Homework 30%, Participation 20%\n    final_grade = (test_score * 0.5 + homework_score * 0.3 + participation_score * 0.2)\n    \n    print(f\"Weighted Average: {final_grade:.1f}%\")\n    \n    # Determine letter grade\n    if final_grade >= 90:\n        letter_grade = \"A\"\n        message = \"Excellent work!\"\n    elif final_grade >= 80:\n        letter_grade = \"B\"\n        message = \"Good job!\"\n    elif final_grade >= 70:\n        letter_grade = \"C\"\n        message = \"Satisfactory work.\"\n    elif final_grade >= 60:\n        letter_grade = \"D\"\n        message = \"Needs improvement.\"\n    else:\n        letter_grade = \"F\"\n        message = \"Please see instructor.\"\n    \n    print(f\"Letter Grade: {letter_grade}\")\n    print(f\"Comment: {message}\")\n    \n    if final_grade >= 60:\n        print(\"\\nYou passed the course!\")\n    else:\n        print(\"\\nYou did not pass the course.\")\n        \nelse:\n    print(\"Error: All scores must be between 0 and 100.\")",
      "metadata": {
        "trusted": true
      },
      "outputs": [],
      "execution_count": null
    },
    {
      "cell_type": "markdown",
      "source": "---\n\n## 9. Key Takeaways\n\n**Basic Concepts:**\n- `if` statements execute code only when conditions are true\n- `if-else` handles two-way decisions (one block always runs)\n- `if-elif-else` handles multiple options (first true condition wins)\n\n**Logical Operators:**\n- `and` requires both conditions to be true\n- `or` requires at least one condition to be true\n- `not` reverses true/false\n\n**Nested Conditionals:**\n- Use when second decision depends on first\n- Increase indentation by 4 spaces for each level\n\n**Python Requirements:**\n- Every if/elif/else must end with colon `:`\n- Use exactly 4 spaces per indentation level\n- Be consistent with indentation\n\n**Next Week:** Lists and Tuples - storing multiple values together!",
      "metadata": {}
    }
  ]
}